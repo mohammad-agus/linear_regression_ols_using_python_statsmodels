{
 "cells": [
  {
   "cell_type": "markdown",
   "metadata": {},
   "source": [
    "The objective of this project is to perform linear regression analysis (ordinary least square technique) using Python Statsmodels to predict the car price, based on the automobile dataset from [UCI Machine Learning repository](https://archive.ics.uci.edu/ml/datasets/automobile), which is a common dataset for regression analysis. The automobile dataset is from the year 1985 which is quite old, but it's suitable for the learning purposes of this project.\n",
    "<br/>\n",
    "You can find the project's jupyter notebook and the dataset (if you want to skip extracting step) on my [GitHub repository](https://github.com/mohammad-agus/linear_regression_ordinary_least_square). "
   ]
  },
  {
   "cell_type": "markdown",
   "metadata": {
    "tags": []
   },
   "source": [
    "### Import Library"
   ]
  },
  {
   "cell_type": "code",
   "execution_count": 1,
   "metadata": {
    "tags": []
   },
   "outputs": [],
   "source": [
    "import numpy as np\n",
    "import pandas as pd\n",
    "\n",
    "import scipy.stats as stats\n",
    "import statsmodels.api as sm\n",
    "\n",
    "import seaborn as sns\n",
    "import matplotlib.pyplot as plt\n",
    "\n",
    "from urllib import request # download dataset description from the source\n",
    "\n",
    "import warnings\n",
    "warnings.filterwarnings('ignore')"
   ]
  },
  {
   "cell_type": "markdown",
   "metadata": {
    "tags": []
   },
   "source": [
    "# Data Preprocessing & Exploration"
   ]
  },
  {
   "cell_type": "markdown",
   "metadata": {},
   "source": [
    "### Exctract the Dataset"
   ]
  },
  {
   "cell_type": "markdown",
   "metadata": {},
   "source": [
    "* Download and read the dataset description"
   ]
  },
  {
   "cell_type": "code",
   "execution_count": 144,
   "metadata": {},
   "outputs": [
    {
     "name": "stdout",
     "output_type": "stream",
     "text": [
      "1. Title: 1985 Auto Imports Database\n",
      "\n",
      "2. Source Information:\n",
      "   -- Creator/Donor: Jeffrey C. Schlimmer (Jeffrey.Schlimmer@a.gp.cs.cmu.edu)\n",
      "   -- Date: 19 May 1987\n",
      "   -- Sources:\n",
      "     1) 1985 Model Import Car and Truck Specifications, 1985 Ward's\n",
      "        Automotive Yearbook.\n",
      "     2) Personal Auto Manuals, Insurance Services Office, 160 Water\n",
      "        Street, New York, NY 10038 \n",
      "     3) Insurance Collision Report, Insurance Institute for Highway\n",
      "        Safety, Watergate 600, Washington, DC 20037\n",
      "\n",
      "3. Past Usage:\n",
      "   -- Kibler,~D., Aha,~D.~W., \\& Albert,~M. (1989).  Instance-based prediction\n",
      "      of real-valued attributes.  {\\it Computational Intelligence}, {\\it 5},\n",
      "      51--57.\n",
      "\t -- Predicted price of car using all numeric and Boolean attributes\n",
      "\t -- Method: an instance-based learning (IBL) algorithm derived from a\n",
      "\t    localized k-nearest neighbor algorithm.  Compared with a\n",
      "\t    linear regression prediction...so all instances\n",
      "\t    with missing attribute values were discarded.  This resulted with\n",
      "\t    a training set of 159 instances, which was also used as a test\n",
      "\t    set (minus the actual instance during testing).\n",
      "\t -- Results: Percent Average Deviation Error of Prediction from Actual\n",
      "\t    -- 11.84% for the IBL algorithm\n",
      "\t    -- 14.12% for the resulting linear regression equation\n",
      "\n",
      "4. Relevant Information:\n",
      "   -- Description\n",
      "      This data set consists of three types of entities: (a) the\n",
      "      specification of an auto in terms of various characteristics, (b)\n",
      "      its assigned insurance risk rating, (c) its normalized losses in use\n",
      "      as compared to other cars.  The second rating corresponds to the\n",
      "      degree to which the auto is more risky than its price indicates.\n",
      "      Cars are initially assigned a risk factor symbol associated with its\n",
      "      price.   Then, if it is more risky (or less), this symbol is\n",
      "      adjusted by moving it up (or down) the scale.  Actuarians call this\n",
      "      process \"symboling\".  A value of +3 indicates that the auto is\n",
      "      risky, -3 that it is probably pretty safe.\n",
      "\n",
      "      The third factor is the relative average loss payment per insured\n",
      "      vehicle year.  This value is normalized for all autos within a\n",
      "      particular size classification (two-door small, station wagons,\n",
      "      sports/speciality, etc...), and represents the average loss per car\n",
      "      per year.\n",
      "\n",
      "   -- Note: Several of the attributes in the database could be used as a\n",
      "            \"class\" attribute.\n",
      "\n",
      "5. Number of Instances: 205\n",
      "\n",
      "6. Number of Attributes: 26 total\n",
      "   -- 15 continuous\n",
      "   -- 1 integer\n",
      "   -- 10 nominal\n",
      "\n",
      "7. Attribute Information:     \n",
      "     Attribute:                Attribute Range:\n",
      "     ------------------        -----------------------------------------------\n",
      "  1. symboling:                -3, -2, -1, 0, 1, 2, 3.\n",
      "  2. normalized-losses:        continuous from 65 to 256.\n",
      "  3. make:                     alfa-romero, audi, bmw, chevrolet, dodge, honda,\n",
      "                               isuzu, jaguar, mazda, mercedes-benz, mercury,\n",
      "                               mitsubishi, nissan, peugot, plymouth, porsche,\n",
      "                               renault, saab, subaru, toyota, volkswagen, volvo\n",
      "  4. fuel-type:                diesel, gas.\n",
      "  5. aspiration:               std, turbo.\n",
      "  6. num-of-doors:             four, two.\n",
      "  7. body-style:               hardtop, wagon, sedan, hatchback, convertible.\n",
      "  8. drive-wheels:             4wd, fwd, rwd.\n",
      "  9. engine-location:          front, rear.\n",
      " 10. wheel-base:               continuous from 86.6 120.9.\n",
      " 11. length:                   continuous from 141.1 to 208.1.\n",
      " 12. width:                    continuous from 60.3 to 72.3.\n",
      " 13. height:                   continuous from 47.8 to 59.8.\n",
      " 14. curb-weight:              continuous from 1488 to 4066.\n",
      " 15. engine-type:              dohc, dohcv, l, ohc, ohcf, ohcv, rotor.\n",
      " 16. num-of-cylinders:         eight, five, four, six, three, twelve, two.\n",
      " 17. engine-size:              continuous from 61 to 326.\n",
      " 18. fuel-system:              1bbl, 2bbl, 4bbl, idi, mfi, mpfi, spdi, spfi.\n",
      " 19. bore:                     continuous from 2.54 to 3.94.\n",
      " 20. stroke:                   continuous from 2.07 to 4.17.\n",
      " 21. compression-ratio:        continuous from 7 to 23.\n",
      " 22. horsepower:               continuous from 48 to 288.\n",
      " 23. peak-rpm:                 continuous from 4150 to 6600.\n",
      " 24. city-mpg:                 continuous from 13 to 49.\n",
      " 25. highway-mpg:              continuous from 16 to 54.\n",
      " 26. price:                    continuous from 5118 to 45400.\n",
      "\n",
      "8. Missing Attribute Values: (denoted by \"?\")\n",
      "   Attribute #:   Number of instances missing a value:\n",
      "   2.             41\n",
      "   6.             2\n",
      "   19.            4\n",
      "   20.            4\n",
      "   22.            2\n",
      "   23.            2\n",
      "   26.            4\n",
      "\n",
      "\n",
      "\n",
      "\n",
      "\n"
     ]
    }
   ],
   "source": [
    "data_desc_url = \"https://archive.ics.uci.edu/ml/machine-learning-databases/autos/imports-85.names\"\n",
    "response = request.urlretrieve(data_desc_url, \"dataset/data_desc.names\")\n",
    "\n",
    "with open(\"dataset/data_desc.names\") as data_desc:\n",
    "    print(data_desc.read())"
   ]
  },
  {
   "cell_type": "markdown",
   "metadata": {},
   "source": [
    "* Read the dataset and assign the column header"
   ]
  },
  {
   "cell_type": "code",
   "execution_count": 153,
   "metadata": {},
   "outputs": [
    {
     "data": {
      "text/html": [
       "<div>\n",
       "<style scoped>\n",
       "    .dataframe tbody tr th:only-of-type {\n",
       "        vertical-align: middle;\n",
       "    }\n",
       "\n",
       "    .dataframe tbody tr th {\n",
       "        vertical-align: top;\n",
       "    }\n",
       "\n",
       "    .dataframe thead th {\n",
       "        text-align: right;\n",
       "    }\n",
       "</style>\n",
       "<table border=\"1\" class=\"dataframe\">\n",
       "  <thead>\n",
       "    <tr style=\"text-align: right;\">\n",
       "      <th></th>\n",
       "      <th>3</th>\n",
       "      <th>?</th>\n",
       "      <th>alfa-romero</th>\n",
       "      <th>gas</th>\n",
       "      <th>std</th>\n",
       "      <th>two</th>\n",
       "      <th>convertible</th>\n",
       "      <th>rwd</th>\n",
       "      <th>front</th>\n",
       "      <th>88.60</th>\n",
       "      <th>...</th>\n",
       "      <th>130</th>\n",
       "      <th>mpfi</th>\n",
       "      <th>3.47</th>\n",
       "      <th>2.68</th>\n",
       "      <th>9.00</th>\n",
       "      <th>111</th>\n",
       "      <th>5000</th>\n",
       "      <th>21</th>\n",
       "      <th>27</th>\n",
       "      <th>13495</th>\n",
       "    </tr>\n",
       "  </thead>\n",
       "  <tbody>\n",
       "    <tr>\n",
       "      <th>0</th>\n",
       "      <td>3</td>\n",
       "      <td>?</td>\n",
       "      <td>alfa-romero</td>\n",
       "      <td>gas</td>\n",
       "      <td>std</td>\n",
       "      <td>two</td>\n",
       "      <td>convertible</td>\n",
       "      <td>rwd</td>\n",
       "      <td>front</td>\n",
       "      <td>88.6</td>\n",
       "      <td>...</td>\n",
       "      <td>130</td>\n",
       "      <td>mpfi</td>\n",
       "      <td>3.47</td>\n",
       "      <td>2.68</td>\n",
       "      <td>9.0</td>\n",
       "      <td>111</td>\n",
       "      <td>5000</td>\n",
       "      <td>21</td>\n",
       "      <td>27</td>\n",
       "      <td>16500</td>\n",
       "    </tr>\n",
       "    <tr>\n",
       "      <th>1</th>\n",
       "      <td>1</td>\n",
       "      <td>?</td>\n",
       "      <td>alfa-romero</td>\n",
       "      <td>gas</td>\n",
       "      <td>std</td>\n",
       "      <td>two</td>\n",
       "      <td>hatchback</td>\n",
       "      <td>rwd</td>\n",
       "      <td>front</td>\n",
       "      <td>94.5</td>\n",
       "      <td>...</td>\n",
       "      <td>152</td>\n",
       "      <td>mpfi</td>\n",
       "      <td>2.68</td>\n",
       "      <td>3.47</td>\n",
       "      <td>9.0</td>\n",
       "      <td>154</td>\n",
       "      <td>5000</td>\n",
       "      <td>19</td>\n",
       "      <td>26</td>\n",
       "      <td>16500</td>\n",
       "    </tr>\n",
       "    <tr>\n",
       "      <th>2</th>\n",
       "      <td>2</td>\n",
       "      <td>164</td>\n",
       "      <td>audi</td>\n",
       "      <td>gas</td>\n",
       "      <td>std</td>\n",
       "      <td>four</td>\n",
       "      <td>sedan</td>\n",
       "      <td>fwd</td>\n",
       "      <td>front</td>\n",
       "      <td>99.8</td>\n",
       "      <td>...</td>\n",
       "      <td>109</td>\n",
       "      <td>mpfi</td>\n",
       "      <td>3.19</td>\n",
       "      <td>3.40</td>\n",
       "      <td>10.0</td>\n",
       "      <td>102</td>\n",
       "      <td>5500</td>\n",
       "      <td>24</td>\n",
       "      <td>30</td>\n",
       "      <td>13950</td>\n",
       "    </tr>\n",
       "    <tr>\n",
       "      <th>3</th>\n",
       "      <td>2</td>\n",
       "      <td>164</td>\n",
       "      <td>audi</td>\n",
       "      <td>gas</td>\n",
       "      <td>std</td>\n",
       "      <td>four</td>\n",
       "      <td>sedan</td>\n",
       "      <td>4wd</td>\n",
       "      <td>front</td>\n",
       "      <td>99.4</td>\n",
       "      <td>...</td>\n",
       "      <td>136</td>\n",
       "      <td>mpfi</td>\n",
       "      <td>3.19</td>\n",
       "      <td>3.40</td>\n",
       "      <td>8.0</td>\n",
       "      <td>115</td>\n",
       "      <td>5500</td>\n",
       "      <td>18</td>\n",
       "      <td>22</td>\n",
       "      <td>17450</td>\n",
       "    </tr>\n",
       "    <tr>\n",
       "      <th>4</th>\n",
       "      <td>2</td>\n",
       "      <td>?</td>\n",
       "      <td>audi</td>\n",
       "      <td>gas</td>\n",
       "      <td>std</td>\n",
       "      <td>two</td>\n",
       "      <td>sedan</td>\n",
       "      <td>fwd</td>\n",
       "      <td>front</td>\n",
       "      <td>99.8</td>\n",
       "      <td>...</td>\n",
       "      <td>136</td>\n",
       "      <td>mpfi</td>\n",
       "      <td>3.19</td>\n",
       "      <td>3.40</td>\n",
       "      <td>8.5</td>\n",
       "      <td>110</td>\n",
       "      <td>5500</td>\n",
       "      <td>19</td>\n",
       "      <td>25</td>\n",
       "      <td>15250</td>\n",
       "    </tr>\n",
       "  </tbody>\n",
       "</table>\n",
       "<p>5 rows × 26 columns</p>\n",
       "</div>"
      ],
      "text/plain": [
       "   3    ?  alfa-romero  gas  std   two  convertible  rwd  front  88.60  ...  \\\n",
       "0  3    ?  alfa-romero  gas  std   two  convertible  rwd  front   88.6  ...   \n",
       "1  1    ?  alfa-romero  gas  std   two    hatchback  rwd  front   94.5  ...   \n",
       "2  2  164         audi  gas  std  four        sedan  fwd  front   99.8  ...   \n",
       "3  2  164         audi  gas  std  four        sedan  4wd  front   99.4  ...   \n",
       "4  2    ?         audi  gas  std   two        sedan  fwd  front   99.8  ...   \n",
       "\n",
       "   130  mpfi  3.47  2.68  9.00  111  5000  21  27  13495  \n",
       "0  130  mpfi  3.47  2.68   9.0  111  5000  21  27  16500  \n",
       "1  152  mpfi  2.68  3.47   9.0  154  5000  19  26  16500  \n",
       "2  109  mpfi  3.19  3.40  10.0  102  5500  24  30  13950  \n",
       "3  136  mpfi  3.19  3.40   8.0  115  5500  18  22  17450  \n",
       "4  136  mpfi  3.19  3.40   8.5  110  5500  19  25  15250  \n",
       "\n",
       "[5 rows x 26 columns]"
      ]
     },
     "execution_count": 153,
     "metadata": {},
     "output_type": "execute_result"
    }
   ],
   "source": [
    "data_url = \"https://archive.ics.uci.edu/ml/machine-learning-databases/autos/imports-85.data\" # url source dataset\n",
    "df = pd.read_csv(data_url)\n",
    "df.head()"
   ]
  },
  {
   "cell_type": "markdown",
   "metadata": {},
   "source": [
    "As shown above, the dataset doesn't contain the column header. Here is the column list that has been created manually based on the dataset descriptions."
   ]
  },
  {
   "cell_type": "code",
   "execution_count": 154,
   "metadata": {
    "tags": []
   },
   "outputs": [
    {
     "data": {
      "text/html": [
       "<div>\n",
       "<style scoped>\n",
       "    .dataframe tbody tr th:only-of-type {\n",
       "        vertical-align: middle;\n",
       "    }\n",
       "\n",
       "    .dataframe tbody tr th {\n",
       "        vertical-align: top;\n",
       "    }\n",
       "\n",
       "    .dataframe thead th {\n",
       "        text-align: right;\n",
       "    }\n",
       "</style>\n",
       "<table border=\"1\" class=\"dataframe\">\n",
       "  <thead>\n",
       "    <tr style=\"text-align: right;\">\n",
       "      <th></th>\n",
       "      <th>symboling</th>\n",
       "      <th>normalized-losses</th>\n",
       "      <th>make</th>\n",
       "      <th>fuel-type</th>\n",
       "      <th>aspiration</th>\n",
       "      <th>num-of-doors</th>\n",
       "      <th>body-style</th>\n",
       "      <th>drive-wheels</th>\n",
       "      <th>engine-location</th>\n",
       "      <th>wheel-base</th>\n",
       "      <th>...</th>\n",
       "      <th>engine-size</th>\n",
       "      <th>fuel-system</th>\n",
       "      <th>bore</th>\n",
       "      <th>stroke</th>\n",
       "      <th>compression-ratio</th>\n",
       "      <th>horsepower</th>\n",
       "      <th>peak-rpm</th>\n",
       "      <th>city-mpg</th>\n",
       "      <th>highway-mpg</th>\n",
       "      <th>price</th>\n",
       "    </tr>\n",
       "  </thead>\n",
       "  <tbody>\n",
       "    <tr>\n",
       "      <th>0</th>\n",
       "      <td>3</td>\n",
       "      <td>?</td>\n",
       "      <td>alfa-romero</td>\n",
       "      <td>gas</td>\n",
       "      <td>std</td>\n",
       "      <td>two</td>\n",
       "      <td>convertible</td>\n",
       "      <td>rwd</td>\n",
       "      <td>front</td>\n",
       "      <td>88.6</td>\n",
       "      <td>...</td>\n",
       "      <td>130</td>\n",
       "      <td>mpfi</td>\n",
       "      <td>3.47</td>\n",
       "      <td>2.68</td>\n",
       "      <td>9.0</td>\n",
       "      <td>111</td>\n",
       "      <td>5000</td>\n",
       "      <td>21</td>\n",
       "      <td>27</td>\n",
       "      <td>16500</td>\n",
       "    </tr>\n",
       "    <tr>\n",
       "      <th>1</th>\n",
       "      <td>1</td>\n",
       "      <td>?</td>\n",
       "      <td>alfa-romero</td>\n",
       "      <td>gas</td>\n",
       "      <td>std</td>\n",
       "      <td>two</td>\n",
       "      <td>hatchback</td>\n",
       "      <td>rwd</td>\n",
       "      <td>front</td>\n",
       "      <td>94.5</td>\n",
       "      <td>...</td>\n",
       "      <td>152</td>\n",
       "      <td>mpfi</td>\n",
       "      <td>2.68</td>\n",
       "      <td>3.47</td>\n",
       "      <td>9.0</td>\n",
       "      <td>154</td>\n",
       "      <td>5000</td>\n",
       "      <td>19</td>\n",
       "      <td>26</td>\n",
       "      <td>16500</td>\n",
       "    </tr>\n",
       "    <tr>\n",
       "      <th>2</th>\n",
       "      <td>2</td>\n",
       "      <td>164</td>\n",
       "      <td>audi</td>\n",
       "      <td>gas</td>\n",
       "      <td>std</td>\n",
       "      <td>four</td>\n",
       "      <td>sedan</td>\n",
       "      <td>fwd</td>\n",
       "      <td>front</td>\n",
       "      <td>99.8</td>\n",
       "      <td>...</td>\n",
       "      <td>109</td>\n",
       "      <td>mpfi</td>\n",
       "      <td>3.19</td>\n",
       "      <td>3.40</td>\n",
       "      <td>10.0</td>\n",
       "      <td>102</td>\n",
       "      <td>5500</td>\n",
       "      <td>24</td>\n",
       "      <td>30</td>\n",
       "      <td>13950</td>\n",
       "    </tr>\n",
       "    <tr>\n",
       "      <th>3</th>\n",
       "      <td>2</td>\n",
       "      <td>164</td>\n",
       "      <td>audi</td>\n",
       "      <td>gas</td>\n",
       "      <td>std</td>\n",
       "      <td>four</td>\n",
       "      <td>sedan</td>\n",
       "      <td>4wd</td>\n",
       "      <td>front</td>\n",
       "      <td>99.4</td>\n",
       "      <td>...</td>\n",
       "      <td>136</td>\n",
       "      <td>mpfi</td>\n",
       "      <td>3.19</td>\n",
       "      <td>3.40</td>\n",
       "      <td>8.0</td>\n",
       "      <td>115</td>\n",
       "      <td>5500</td>\n",
       "      <td>18</td>\n",
       "      <td>22</td>\n",
       "      <td>17450</td>\n",
       "    </tr>\n",
       "    <tr>\n",
       "      <th>4</th>\n",
       "      <td>2</td>\n",
       "      <td>?</td>\n",
       "      <td>audi</td>\n",
       "      <td>gas</td>\n",
       "      <td>std</td>\n",
       "      <td>two</td>\n",
       "      <td>sedan</td>\n",
       "      <td>fwd</td>\n",
       "      <td>front</td>\n",
       "      <td>99.8</td>\n",
       "      <td>...</td>\n",
       "      <td>136</td>\n",
       "      <td>mpfi</td>\n",
       "      <td>3.19</td>\n",
       "      <td>3.40</td>\n",
       "      <td>8.5</td>\n",
       "      <td>110</td>\n",
       "      <td>5500</td>\n",
       "      <td>19</td>\n",
       "      <td>25</td>\n",
       "      <td>15250</td>\n",
       "    </tr>\n",
       "  </tbody>\n",
       "</table>\n",
       "<p>5 rows × 26 columns</p>\n",
       "</div>"
      ],
      "text/plain": [
       "   symboling normalized-losses         make fuel-type aspiration num-of-doors  \\\n",
       "0          3                 ?  alfa-romero       gas        std          two   \n",
       "1          1                 ?  alfa-romero       gas        std          two   \n",
       "2          2               164         audi       gas        std         four   \n",
       "3          2               164         audi       gas        std         four   \n",
       "4          2                 ?         audi       gas        std          two   \n",
       "\n",
       "    body-style drive-wheels engine-location  wheel-base  ...  engine-size  \\\n",
       "0  convertible          rwd           front        88.6  ...          130   \n",
       "1    hatchback          rwd           front        94.5  ...          152   \n",
       "2        sedan          fwd           front        99.8  ...          109   \n",
       "3        sedan          4wd           front        99.4  ...          136   \n",
       "4        sedan          fwd           front        99.8  ...          136   \n",
       "\n",
       "   fuel-system  bore  stroke compression-ratio horsepower  peak-rpm city-mpg  \\\n",
       "0         mpfi  3.47    2.68               9.0        111      5000       21   \n",
       "1         mpfi  2.68    3.47               9.0        154      5000       19   \n",
       "2         mpfi  3.19    3.40              10.0        102      5500       24   \n",
       "3         mpfi  3.19    3.40               8.0        115      5500       18   \n",
       "4         mpfi  3.19    3.40               8.5        110      5500       19   \n",
       "\n",
       "  highway-mpg  price  \n",
       "0          27  16500  \n",
       "1          26  16500  \n",
       "2          30  13950  \n",
       "3          22  17450  \n",
       "4          25  15250  \n",
       "\n",
       "[5 rows x 26 columns]"
      ]
     },
     "execution_count": 154,
     "metadata": {},
     "output_type": "execute_result"
    }
   ],
   "source": [
    "column = [  'symboling', 'normalized-losses', 'make', 'fuel-type', 'aspiration',\n",
    "            'num-of-doors', 'body-style', 'drive-wheels', 'engine-location', 'wheel-base',\n",
    "            'length', 'width', 'height', 'curbweight', 'engine-type', 'num-of-cylinders',\n",
    "            'engine-size', 'fuel-system', 'bore', 'stroke', 'compression-ratio', 'horsepower', \n",
    "            'peak-rpm', 'city-mpg', 'highway-mpg', 'price' ]\n",
    "\n",
    "data_url = \"https://archive.ics.uci.edu/ml/machine-learning-databases/autos/imports-85.data\"\n",
    "df.columns = column\n",
    "df.head()"
   ]
  },
  {
   "cell_type": "markdown",
   "metadata": {},
   "source": [
    "### Data Cleaning"
   ]
  },
  {
   "cell_type": "markdown",
   "metadata": {},
   "source": [
    "* Check the null value\n",
    "<br/>\n",
    "The null values denoted by '?' sign"
   ]
  },
  {
   "cell_type": "code",
   "execution_count": 147,
   "metadata": {},
   "outputs": [
    {
     "name": "stdout",
     "output_type": "stream",
     "text": [
      "(204, 26)\n",
      "symboling             0\n",
      "normalized-losses    40\n",
      "make                  0\n",
      "fuel-type             0\n",
      "aspiration            0\n",
      "num-of-doors          2\n",
      "body-style            0\n",
      "drive-wheels          0\n",
      "engine-location       0\n",
      "wheel-base            0\n",
      "length                0\n",
      "width                 0\n",
      "height                0\n",
      "curbweight            0\n",
      "engine-type           0\n",
      "num-of-cylinders      0\n",
      "engine-size           0\n",
      "fuel-system           0\n",
      "bore                  4\n",
      "stroke                4\n",
      "compression-ratio     0\n",
      "horsepower            2\n",
      "peak-rpm              2\n",
      "city-mpg              0\n",
      "highway-mpg           0\n",
      "price                 4\n",
      "dtype: int64\n"
     ]
    }
   ],
   "source": [
    "print(df.shape)\n",
    "print(df.isin(['?']).sum())"
   ]
  },
  {
   "cell_type": "markdown",
   "metadata": {},
   "source": [
    "* Handle the missing values\n",
    "<br/> All the null values will be removed, starting with normalized-losses column (otherwise all 40 rows will be removed). For the rest of the missing values, replace '?' sign with a null value (numpy.nan) then perform dropna()."
   ]
  },
  {
   "cell_type": "code",
   "execution_count": 156,
   "metadata": {},
   "outputs": [
    {
     "data": {
      "text/html": [
       "<div>\n",
       "<style scoped>\n",
       "    .dataframe tbody tr th:only-of-type {\n",
       "        vertical-align: middle;\n",
       "    }\n",
       "\n",
       "    .dataframe tbody tr th {\n",
       "        vertical-align: top;\n",
       "    }\n",
       "\n",
       "    .dataframe thead th {\n",
       "        text-align: right;\n",
       "    }\n",
       "</style>\n",
       "<table border=\"1\" class=\"dataframe\">\n",
       "  <thead>\n",
       "    <tr style=\"text-align: right;\">\n",
       "      <th></th>\n",
       "      <th>symboling</th>\n",
       "      <th>make</th>\n",
       "      <th>fuel-type</th>\n",
       "      <th>aspiration</th>\n",
       "      <th>num-of-doors</th>\n",
       "      <th>body-style</th>\n",
       "      <th>drive-wheels</th>\n",
       "      <th>engine-location</th>\n",
       "      <th>wheel-base</th>\n",
       "      <th>length</th>\n",
       "      <th>...</th>\n",
       "      <th>engine-size</th>\n",
       "      <th>fuel-system</th>\n",
       "      <th>bore</th>\n",
       "      <th>stroke</th>\n",
       "      <th>compression-ratio</th>\n",
       "      <th>horsepower</th>\n",
       "      <th>peak-rpm</th>\n",
       "      <th>city-mpg</th>\n",
       "      <th>highway-mpg</th>\n",
       "      <th>price</th>\n",
       "    </tr>\n",
       "  </thead>\n",
       "  <tbody>\n",
       "    <tr>\n",
       "      <th>0</th>\n",
       "      <td>3</td>\n",
       "      <td>alfa-romero</td>\n",
       "      <td>gas</td>\n",
       "      <td>std</td>\n",
       "      <td>two</td>\n",
       "      <td>convertible</td>\n",
       "      <td>rwd</td>\n",
       "      <td>front</td>\n",
       "      <td>88.6</td>\n",
       "      <td>168.8</td>\n",
       "      <td>...</td>\n",
       "      <td>130</td>\n",
       "      <td>mpfi</td>\n",
       "      <td>3.47</td>\n",
       "      <td>2.68</td>\n",
       "      <td>9.0</td>\n",
       "      <td>111</td>\n",
       "      <td>5000</td>\n",
       "      <td>21</td>\n",
       "      <td>27</td>\n",
       "      <td>16500</td>\n",
       "    </tr>\n",
       "    <tr>\n",
       "      <th>1</th>\n",
       "      <td>1</td>\n",
       "      <td>alfa-romero</td>\n",
       "      <td>gas</td>\n",
       "      <td>std</td>\n",
       "      <td>two</td>\n",
       "      <td>hatchback</td>\n",
       "      <td>rwd</td>\n",
       "      <td>front</td>\n",
       "      <td>94.5</td>\n",
       "      <td>171.2</td>\n",
       "      <td>...</td>\n",
       "      <td>152</td>\n",
       "      <td>mpfi</td>\n",
       "      <td>2.68</td>\n",
       "      <td>3.47</td>\n",
       "      <td>9.0</td>\n",
       "      <td>154</td>\n",
       "      <td>5000</td>\n",
       "      <td>19</td>\n",
       "      <td>26</td>\n",
       "      <td>16500</td>\n",
       "    </tr>\n",
       "    <tr>\n",
       "      <th>2</th>\n",
       "      <td>2</td>\n",
       "      <td>audi</td>\n",
       "      <td>gas</td>\n",
       "      <td>std</td>\n",
       "      <td>four</td>\n",
       "      <td>sedan</td>\n",
       "      <td>fwd</td>\n",
       "      <td>front</td>\n",
       "      <td>99.8</td>\n",
       "      <td>176.6</td>\n",
       "      <td>...</td>\n",
       "      <td>109</td>\n",
       "      <td>mpfi</td>\n",
       "      <td>3.19</td>\n",
       "      <td>3.40</td>\n",
       "      <td>10.0</td>\n",
       "      <td>102</td>\n",
       "      <td>5500</td>\n",
       "      <td>24</td>\n",
       "      <td>30</td>\n",
       "      <td>13950</td>\n",
       "    </tr>\n",
       "    <tr>\n",
       "      <th>3</th>\n",
       "      <td>2</td>\n",
       "      <td>audi</td>\n",
       "      <td>gas</td>\n",
       "      <td>std</td>\n",
       "      <td>four</td>\n",
       "      <td>sedan</td>\n",
       "      <td>4wd</td>\n",
       "      <td>front</td>\n",
       "      <td>99.4</td>\n",
       "      <td>176.6</td>\n",
       "      <td>...</td>\n",
       "      <td>136</td>\n",
       "      <td>mpfi</td>\n",
       "      <td>3.19</td>\n",
       "      <td>3.40</td>\n",
       "      <td>8.0</td>\n",
       "      <td>115</td>\n",
       "      <td>5500</td>\n",
       "      <td>18</td>\n",
       "      <td>22</td>\n",
       "      <td>17450</td>\n",
       "    </tr>\n",
       "    <tr>\n",
       "      <th>4</th>\n",
       "      <td>2</td>\n",
       "      <td>audi</td>\n",
       "      <td>gas</td>\n",
       "      <td>std</td>\n",
       "      <td>two</td>\n",
       "      <td>sedan</td>\n",
       "      <td>fwd</td>\n",
       "      <td>front</td>\n",
       "      <td>99.8</td>\n",
       "      <td>177.3</td>\n",
       "      <td>...</td>\n",
       "      <td>136</td>\n",
       "      <td>mpfi</td>\n",
       "      <td>3.19</td>\n",
       "      <td>3.40</td>\n",
       "      <td>8.5</td>\n",
       "      <td>110</td>\n",
       "      <td>5500</td>\n",
       "      <td>19</td>\n",
       "      <td>25</td>\n",
       "      <td>15250</td>\n",
       "    </tr>\n",
       "  </tbody>\n",
       "</table>\n",
       "<p>5 rows × 25 columns</p>\n",
       "</div>"
      ],
      "text/plain": [
       "   symboling         make fuel-type aspiration num-of-doors   body-style  \\\n",
       "0          3  alfa-romero       gas        std          two  convertible   \n",
       "1          1  alfa-romero       gas        std          two    hatchback   \n",
       "2          2         audi       gas        std         four        sedan   \n",
       "3          2         audi       gas        std         four        sedan   \n",
       "4          2         audi       gas        std          two        sedan   \n",
       "\n",
       "  drive-wheels engine-location  wheel-base  length  ...  engine-size  \\\n",
       "0          rwd           front        88.6   168.8  ...          130   \n",
       "1          rwd           front        94.5   171.2  ...          152   \n",
       "2          fwd           front        99.8   176.6  ...          109   \n",
       "3          4wd           front        99.4   176.6  ...          136   \n",
       "4          fwd           front        99.8   177.3  ...          136   \n",
       "\n",
       "   fuel-system  bore stroke compression-ratio  horsepower peak-rpm city-mpg  \\\n",
       "0         mpfi  3.47   2.68               9.0         111     5000       21   \n",
       "1         mpfi  2.68   3.47               9.0         154     5000       19   \n",
       "2         mpfi  3.19   3.40              10.0         102     5500       24   \n",
       "3         mpfi  3.19   3.40               8.0         115     5500       18   \n",
       "4         mpfi  3.19   3.40               8.5         110     5500       19   \n",
       "\n",
       "  highway-mpg  price  \n",
       "0          27  16500  \n",
       "1          26  16500  \n",
       "2          30  13950  \n",
       "3          22  17450  \n",
       "4          25  15250  \n",
       "\n",
       "[5 rows x 25 columns]"
      ]
     },
     "execution_count": 156,
     "metadata": {},
     "output_type": "execute_result"
    }
   ],
   "source": [
    "df.drop(['normalized-losses'], axis=1, inplace=True)\n",
    "df.replace('?', np.nan, inplace=True)\n",
    "df.dropna(inplace=True)\n",
    "df.head()"
   ]
  },
  {
   "cell_type": "code",
   "execution_count": 157,
   "metadata": {},
   "outputs": [
    {
     "data": {
      "text/plain": [
       "(192, 25)"
      ]
     },
     "execution_count": 157,
     "metadata": {},
     "output_type": "execute_result"
    }
   ],
   "source": [
    "df.shape"
   ]
  },
  {
   "cell_type": "markdown",
   "metadata": {},
   "source": [
    "After the null values were removed, now the dataset consist of 192 rows and 25 features (columns)."
   ]
  },
  {
   "cell_type": "markdown",
   "metadata": {},
   "source": [
    "* Check the data type of df dataset columns"
   ]
  },
  {
   "cell_type": "code",
   "execution_count": 161,
   "metadata": {},
   "outputs": [
    {
     "name": "stdout",
     "output_type": "stream",
     "text": [
      "<class 'pandas.core.frame.DataFrame'>\n",
      "Int64Index: 192 entries, 0 to 203\n",
      "Data columns (total 25 columns):\n",
      " #   Column             Non-Null Count  Dtype  \n",
      "---  ------             --------------  -----  \n",
      " 0   symboling          192 non-null    int64  \n",
      " 1   make               192 non-null    object \n",
      " 2   fuel-type          192 non-null    object \n",
      " 3   aspiration         192 non-null    object \n",
      " 4   num-of-doors       192 non-null    object \n",
      " 5   body-style         192 non-null    object \n",
      " 6   drive-wheels       192 non-null    object \n",
      " 7   engine-location    192 non-null    object \n",
      " 8   wheel-base         192 non-null    float64\n",
      " 9   length             192 non-null    float64\n",
      " 10  width              192 non-null    float64\n",
      " 11  height             192 non-null    float64\n",
      " 12  curbweight         192 non-null    int64  \n",
      " 13  engine-type        192 non-null    object \n",
      " 14  num-of-cylinders   192 non-null    object \n",
      " 15  engine-size        192 non-null    int64  \n",
      " 16  fuel-system        192 non-null    object \n",
      " 17  bore               192 non-null    object \n",
      " 18  stroke             192 non-null    object \n",
      " 19  compression-ratio  192 non-null    float64\n",
      " 20  horsepower         192 non-null    object \n",
      " 21  peak-rpm           192 non-null    object \n",
      " 22  city-mpg           192 non-null    int64  \n",
      " 23  highway-mpg        192 non-null    int64  \n",
      " 24  price              192 non-null    object \n",
      "dtypes: float64(5), int64(5), object(15)\n",
      "memory usage: 39.0+ KB\n"
     ]
    }
   ],
   "source": [
    "df.info()"
   ]
  },
  {
   "cell_type": "markdown",
   "metadata": {},
   "source": [
    "The df.info() shows that there are some columns hasn't have the correct data type"
   ]
  },
  {
   "cell_type": "markdown",
   "metadata": {},
   "source": [
    "* Convert the columns datatype"
   ]
  },
  {
   "cell_type": "code",
   "execution_count": 162,
   "metadata": {},
   "outputs": [
    {
     "name": "stdout",
     "output_type": "stream",
     "text": [
      "<class 'pandas.core.frame.DataFrame'>\n",
      "Int64Index: 192 entries, 0 to 203\n",
      "Data columns (total 25 columns):\n",
      " #   Column             Non-Null Count  Dtype  \n",
      "---  ------             --------------  -----  \n",
      " 0   symboling          192 non-null    int64  \n",
      " 1   make               192 non-null    object \n",
      " 2   fuel-type          192 non-null    object \n",
      " 3   aspiration         192 non-null    object \n",
      " 4   num-of-doors       192 non-null    object \n",
      " 5   body-style         192 non-null    object \n",
      " 6   drive-wheels       192 non-null    object \n",
      " 7   engine-location    192 non-null    object \n",
      " 8   wheel-base         192 non-null    float64\n",
      " 9   length             192 non-null    float64\n",
      " 10  width              192 non-null    float64\n",
      " 11  height             192 non-null    float64\n",
      " 12  curbweight         192 non-null    int64  \n",
      " 13  engine-type        192 non-null    object \n",
      " 14  num-of-cylinders   192 non-null    object \n",
      " 15  engine-size        192 non-null    int64  \n",
      " 16  fuel-system        192 non-null    object \n",
      " 17  bore               192 non-null    float64\n",
      " 18  stroke             192 non-null    float64\n",
      " 19  compression-ratio  192 non-null    float64\n",
      " 20  horsepower         192 non-null    float64\n",
      " 21  peak-rpm           192 non-null    float64\n",
      " 22  city-mpg           192 non-null    int64  \n",
      " 23  highway-mpg        192 non-null    int64  \n",
      " 24  price              192 non-null    float64\n",
      "dtypes: float64(10), int64(5), object(10)\n",
      "memory usage: 39.0+ KB\n"
     ]
    }
   ],
   "source": [
    "# to float\n",
    "to_float = ['bore', 'stroke', 'horsepower', 'peak-rpm', 'price']\n",
    "\n",
    "for i in to_float:\n",
    "    df[i] = df[i].astype(float)\n",
    "    \n",
    "df.info()"
   ]
  },
  {
   "cell_type": "markdown",
   "metadata": {},
   "source": [
    "Now, the columns have the correct data type and it's ready for some calculations"
   ]
  },
  {
   "cell_type": "markdown",
   "metadata": {},
   "source": [
    "* Histogram of the Car Price\n",
    "<br/>\n",
    "The value that will be predicted (Price) is called the Target or Dependent Variable and the predictor is called the Features or Independent Variables."
   ]
  },
  {
   "cell_type": "code",
   "execution_count": 169,
   "metadata": {},
   "outputs": [
    {
     "data": {
      "text/plain": [
       "<Figure size 864x576 with 0 Axes>"
      ]
     },
     "metadata": {},
     "output_type": "display_data"
    },
    {
     "data": {
      "image/png": "[encoded data removed]",
      "text/plain": [
       "<Figure size 360x360 with 1 Axes>"
      ]
     },
     "metadata": {
      "needs_background": "light"
     },
     "output_type": "display_data"
    }
   ],
   "source": [
    "plt.figure(figsize=(12,8))\n",
    "sns.displot(df['price'], kde=True)\n",
    "plt.title('Car Price Distribution Data')\n",
    "plt.show()"
   ]
  },
  {
   "cell_type": "markdown",
   "metadata": {},
   "source": [
    "As shown in the plot above, most of the car prices are concentrated between the range 5000 to 20000 and the data has right-skewed distribution."
   ]
  },
  {
   "cell_type": "markdown",
   "metadata": {},
   "source": [
    "* Price range based on categorical variables"
   ]
  },
  {
   "cell_type": "code",
   "execution_count": 167,
   "metadata": {},
   "outputs": [
    {
     "data": {
      "image/png": "[encoded data removed]",
      "text/plain": [
       "<Figure size 864x576 with 9 Axes>"
      ]
     },
     "metadata": {
      "needs_background": "light"
     },
     "output_type": "display_data"
    }
   ],
   "source": [
    "cat_var = df.loc[: , df.columns!='make'].select_dtypes(include=['object'])\n",
    "\n",
    "plt.figure(figsize=(12,8))\n",
    "for i in enumerate(cat_var.columns): # enumerate(df.columns): return list of tuple(index column, name of column)\n",
    "    plt.subplot(3,3, i[0]+1) # 3 rows, 3 columns, index enumerate() + 1\n",
    "    sns.boxplot(data=df,  x=i[1], y='price', palette=\"husl\") # x: name of the column\n",
    "    plt.xticks(rotation = 45)\n",
    "    plt.tight_layout()"
   ]
  },
  {
   "cell_type": "markdown",
   "metadata": {},
   "source": [
    "There are some outliers data based on the plots, but it's permissible for several reasons. Their occurrence is natural and the error can't be identified or corrected. So in this step, the outliers won't be removed."
   ]
  },
  {
   "cell_type": "markdown",
   "metadata": {},
   "source": [
    "* Summary of the numerical value"
   ]
  },
  {
   "cell_type": "code",
   "execution_count": 170,
   "metadata": {},
   "outputs": [
    {
     "data": {
      "text/html": [
       "<div>\n",
       "<style scoped>\n",
       "    .dataframe tbody tr th:only-of-type {\n",
       "        vertical-align: middle;\n",
       "    }\n",
       "\n",
       "    .dataframe tbody tr th {\n",
       "        vertical-align: top;\n",
       "    }\n",
       "\n",
       "    .dataframe thead th {\n",
       "        text-align: right;\n",
       "    }\n",
       "</style>\n",
       "<table border=\"1\" class=\"dataframe\">\n",
       "  <thead>\n",
       "    <tr style=\"text-align: right;\">\n",
       "      <th></th>\n",
       "      <th>symboling</th>\n",
       "      <th>wheel-base</th>\n",
       "      <th>length</th>\n",
       "      <th>width</th>\n",
       "      <th>height</th>\n",
       "      <th>curbweight</th>\n",
       "      <th>engine-size</th>\n",
       "      <th>bore</th>\n",
       "      <th>stroke</th>\n",
       "      <th>compression-ratio</th>\n",
       "      <th>horsepower</th>\n",
       "      <th>peak-rpm</th>\n",
       "      <th>city-mpg</th>\n",
       "      <th>highway-mpg</th>\n",
       "      <th>price</th>\n",
       "    </tr>\n",
       "  </thead>\n",
       "  <tbody>\n",
       "    <tr>\n",
       "      <th>count</th>\n",
       "      <td>192.000000</td>\n",
       "      <td>192.000000</td>\n",
       "      <td>192.000000</td>\n",
       "      <td>192.000000</td>\n",
       "      <td>192.000000</td>\n",
       "      <td>192.000000</td>\n",
       "      <td>192.000000</td>\n",
       "      <td>192.000000</td>\n",
       "      <td>192.000000</td>\n",
       "      <td>192.000000</td>\n",
       "      <td>192.000000</td>\n",
       "      <td>192.000000</td>\n",
       "      <td>192.000000</td>\n",
       "      <td>192.000000</td>\n",
       "      <td>192.000000</td>\n",
       "    </tr>\n",
       "    <tr>\n",
       "      <th>mean</th>\n",
       "      <td>0.786458</td>\n",
       "      <td>98.977604</td>\n",
       "      <td>174.355208</td>\n",
       "      <td>65.903125</td>\n",
       "      <td>53.896354</td>\n",
       "      <td>2561.578125</td>\n",
       "      <td>128.114583</td>\n",
       "      <td>3.329896</td>\n",
       "      <td>3.251823</td>\n",
       "      <td>10.149583</td>\n",
       "      <td>103.442708</td>\n",
       "      <td>5100.260417</td>\n",
       "      <td>25.348958</td>\n",
       "      <td>30.807292</td>\n",
       "      <td>13283.932292</td>\n",
       "    </tr>\n",
       "    <tr>\n",
       "      <th>std</th>\n",
       "      <td>1.228469</td>\n",
       "      <td>6.122858</td>\n",
       "      <td>12.504792</td>\n",
       "      <td>2.139431</td>\n",
       "      <td>2.372693</td>\n",
       "      <td>528.076113</td>\n",
       "      <td>41.698963</td>\n",
       "      <td>0.272909</td>\n",
       "      <td>0.313541</td>\n",
       "      <td>3.987026</td>\n",
       "      <td>38.055441</td>\n",
       "      <td>469.864005</td>\n",
       "      <td>6.396833</td>\n",
       "      <td>6.829207</td>\n",
       "      <td>8110.216546</td>\n",
       "    </tr>\n",
       "    <tr>\n",
       "      <th>min</th>\n",
       "      <td>-2.000000</td>\n",
       "      <td>86.600000</td>\n",
       "      <td>141.100000</td>\n",
       "      <td>60.300000</td>\n",
       "      <td>47.800000</td>\n",
       "      <td>1488.000000</td>\n",
       "      <td>61.000000</td>\n",
       "      <td>2.540000</td>\n",
       "      <td>2.070000</td>\n",
       "      <td>7.000000</td>\n",
       "      <td>48.000000</td>\n",
       "      <td>4150.000000</td>\n",
       "      <td>13.000000</td>\n",
       "      <td>16.000000</td>\n",
       "      <td>5118.000000</td>\n",
       "    </tr>\n",
       "    <tr>\n",
       "      <th>25%</th>\n",
       "      <td>0.000000</td>\n",
       "      <td>94.500000</td>\n",
       "      <td>166.300000</td>\n",
       "      <td>64.075000</td>\n",
       "      <td>52.000000</td>\n",
       "      <td>2143.750000</td>\n",
       "      <td>98.000000</td>\n",
       "      <td>3.150000</td>\n",
       "      <td>3.110000</td>\n",
       "      <td>8.500000</td>\n",
       "      <td>70.000000</td>\n",
       "      <td>4800.000000</td>\n",
       "      <td>19.000000</td>\n",
       "      <td>25.000000</td>\n",
       "      <td>7725.750000</td>\n",
       "    </tr>\n",
       "    <tr>\n",
       "      <th>50%</th>\n",
       "      <td>1.000000</td>\n",
       "      <td>97.100000</td>\n",
       "      <td>173.200000</td>\n",
       "      <td>65.450000</td>\n",
       "      <td>54.100000</td>\n",
       "      <td>2414.000000</td>\n",
       "      <td>120.000000</td>\n",
       "      <td>3.310000</td>\n",
       "      <td>3.290000</td>\n",
       "      <td>9.000000</td>\n",
       "      <td>95.000000</td>\n",
       "      <td>5100.000000</td>\n",
       "      <td>25.000000</td>\n",
       "      <td>30.000000</td>\n",
       "      <td>10221.500000</td>\n",
       "    </tr>\n",
       "    <tr>\n",
       "      <th>75%</th>\n",
       "      <td>2.000000</td>\n",
       "      <td>102.400000</td>\n",
       "      <td>184.600000</td>\n",
       "      <td>66.900000</td>\n",
       "      <td>55.700000</td>\n",
       "      <td>2952.500000</td>\n",
       "      <td>146.000000</td>\n",
       "      <td>3.590000</td>\n",
       "      <td>3.410000</td>\n",
       "      <td>9.400000</td>\n",
       "      <td>116.000000</td>\n",
       "      <td>5500.000000</td>\n",
       "      <td>30.000000</td>\n",
       "      <td>34.500000</td>\n",
       "      <td>16525.750000</td>\n",
       "    </tr>\n",
       "    <tr>\n",
       "      <th>max</th>\n",
       "      <td>3.000000</td>\n",
       "      <td>120.900000</td>\n",
       "      <td>208.100000</td>\n",
       "      <td>72.000000</td>\n",
       "      <td>59.800000</td>\n",
       "      <td>4066.000000</td>\n",
       "      <td>326.000000</td>\n",
       "      <td>3.940000</td>\n",
       "      <td>4.170000</td>\n",
       "      <td>23.000000</td>\n",
       "      <td>262.000000</td>\n",
       "      <td>6600.000000</td>\n",
       "      <td>49.000000</td>\n",
       "      <td>54.000000</td>\n",
       "      <td>45400.000000</td>\n",
       "    </tr>\n",
       "  </tbody>\n",
       "</table>\n",
       "</div>"
      ],
      "text/plain": [
       "        symboling  wheel-base      length       width      height  \\\n",
       "count  192.000000  192.000000  192.000000  192.000000  192.000000   \n",
       "mean     0.786458   98.977604  174.355208   65.903125   53.896354   \n",
       "std      1.228469    6.122858   12.504792    2.139431    2.372693   \n",
       "min     -2.000000   86.600000  141.100000   60.300000   47.800000   \n",
       "25%      0.000000   94.500000  166.300000   64.075000   52.000000   \n",
       "50%      1.000000   97.100000  173.200000   65.450000   54.100000   \n",
       "75%      2.000000  102.400000  184.600000   66.900000   55.700000   \n",
       "max      3.000000  120.900000  208.100000   72.000000   59.800000   \n",
       "\n",
       "        curbweight  engine-size        bore      stroke  compression-ratio  \\\n",
       "count   192.000000   192.000000  192.000000  192.000000         192.000000   \n",
       "mean   2561.578125   128.114583    3.329896    3.251823          10.149583   \n",
       "std     528.076113    41.698963    0.272909    0.313541           3.987026   \n",
       "min    1488.000000    61.000000    2.540000    2.070000           7.000000   \n",
       "25%    2143.750000    98.000000    3.150000    3.110000           8.500000   \n",
       "50%    2414.000000   120.000000    3.310000    3.290000           9.000000   \n",
       "75%    2952.500000   146.000000    3.590000    3.410000           9.400000   \n",
       "max    4066.000000   326.000000    3.940000    4.170000          23.000000   \n",
       "\n",
       "       horsepower     peak-rpm    city-mpg  highway-mpg         price  \n",
       "count  192.000000   192.000000  192.000000   192.000000    192.000000  \n",
       "mean   103.442708  5100.260417   25.348958    30.807292  13283.932292  \n",
       "std     38.055441   469.864005    6.396833     6.829207   8110.216546  \n",
       "min     48.000000  4150.000000   13.000000    16.000000   5118.000000  \n",
       "25%     70.000000  4800.000000   19.000000    25.000000   7725.750000  \n",
       "50%     95.000000  5100.000000   25.000000    30.000000  10221.500000  \n",
       "75%    116.000000  5500.000000   30.000000    34.500000  16525.750000  \n",
       "max    262.000000  6600.000000   49.000000    54.000000  45400.000000  "
      ]
     },
     "execution_count": 170,
     "metadata": {},
     "output_type": "execute_result"
    }
   ],
   "source": [
    "num_var = df.loc[: , df.columns!='make'].select_dtypes(include=['float','int64'])\n",
    "num_var.describe() # or df.describe"
   ]
  },
  {
   "cell_type": "markdown",
   "metadata": {},
   "source": [
    "* Plot a heatmap based on the correlation value of each numerical variables"
   ]
  },
  {
   "cell_type": "code",
   "execution_count": 172,
   "metadata": {
    "tags": []
   },
   "outputs": [
    {
     "data": {
      "image/png": "[encoded data removed]",
      "text/plain": [
       "<Figure size 864x576 with 2 Axes>"
      ]
     },
     "metadata": {
      "needs_background": "light"
     },
     "output_type": "display_data"
    }
   ],
   "source": [
    "plt.figure(figsize=(12,8))\n",
    "sns.heatmap(num_var.corr(), annot=True, cmap='Blues')\n",
    "plt.title('Correlation Heatmap of Numerical Variables')\n",
    "plt.show()"
   ]
  },
  {
   "cell_type": "markdown",
   "metadata": {},
   "source": [
    "Based on the heatmap, several variables have strong positive or negative correlations. In the simple linear regression analysis, engine-size will be used as the predictor. Then, all the categorical and numerical variables that have been explored before, will be used in the multiple linear regression analysis as well."
   ]
  },
  {
   "cell_type": "markdown",
   "metadata": {
    "tags": []
   },
   "source": [
    "# Simple Linear Regression"
   ]
  },
  {
   "cell_type": "markdown",
   "metadata": {},
   "source": [
    "* Scatter plot and histogram (joint plot) of engine-size vs price"
   ]
  },
  {
   "cell_type": "code",
   "execution_count": 174,
   "metadata": {
    "tags": []
   },
   "outputs": [
    {
     "data": {
      "text/plain": [
       "<Figure size 864x576 with 0 Axes>"
      ]
     },
     "metadata": {},
     "output_type": "display_data"
    },
    {
     "data": {
      "image/png": "[encoded data removed]",
      "text/plain": [
       "<Figure size 432x432 with 3 Axes>"
      ]
     },
     "metadata": {
      "needs_background": "light"
     },
     "output_type": "display_data"
    }
   ],
   "source": [
    "plt.figure(figsize=(12,8))\n",
    "sns.jointplot(data=df, x='engine-size', y='price', kind='reg').fig.suptitle(\"Scatter Plot & Histogram of Engine Size vs. Price\")\n",
    "plt.tight_layout()\n",
    "plt.show()"
   ]
  },
  {
   "cell_type": "markdown",
   "metadata": {},
   "source": [
    "* Duplicate df dataframe and randomly return the sample of the dataframe\n",
    "<br/>\n",
    "Parameter frac=1 means 100% of the dataframe will return randomly and the random_state parameter is for reproducibility (similar to random seed in numpy)."
   ]
  },
  {
   "cell_type": "code",
   "execution_count": 184,
   "metadata": {},
   "outputs": [
    {
     "data": {
      "text/html": [
       "<div>\n",
       "<style scoped>\n",
       "    .dataframe tbody tr th:only-of-type {\n",
       "        vertical-align: middle;\n",
       "    }\n",
       "\n",
       "    .dataframe tbody tr th {\n",
       "        vertical-align: top;\n",
       "    }\n",
       "\n",
       "    .dataframe thead th {\n",
       "        text-align: right;\n",
       "    }\n",
       "</style>\n",
       "<table border=\"1\" class=\"dataframe\">\n",
       "  <thead>\n",
       "    <tr style=\"text-align: right;\">\n",
       "      <th></th>\n",
       "      <th>symboling</th>\n",
       "      <th>make</th>\n",
       "      <th>fuel-type</th>\n",
       "      <th>aspiration</th>\n",
       "      <th>num-of-doors</th>\n",
       "      <th>body-style</th>\n",
       "      <th>drive-wheels</th>\n",
       "      <th>engine-location</th>\n",
       "      <th>wheel-base</th>\n",
       "      <th>length</th>\n",
       "      <th>...</th>\n",
       "      <th>engine-size</th>\n",
       "      <th>fuel-system</th>\n",
       "      <th>bore</th>\n",
       "      <th>stroke</th>\n",
       "      <th>compression-ratio</th>\n",
       "      <th>horsepower</th>\n",
       "      <th>peak-rpm</th>\n",
       "      <th>city-mpg</th>\n",
       "      <th>highway-mpg</th>\n",
       "      <th>price</th>\n",
       "    </tr>\n",
       "  </thead>\n",
       "  <tbody>\n",
       "    <tr>\n",
       "      <th>0</th>\n",
       "      <td>1</td>\n",
       "      <td>mazda</td>\n",
       "      <td>gas</td>\n",
       "      <td>std</td>\n",
       "      <td>four</td>\n",
       "      <td>sedan</td>\n",
       "      <td>fwd</td>\n",
       "      <td>front</td>\n",
       "      <td>93.1</td>\n",
       "      <td>166.8</td>\n",
       "      <td>...</td>\n",
       "      <td>91</td>\n",
       "      <td>2bbl</td>\n",
       "      <td>3.03</td>\n",
       "      <td>3.15</td>\n",
       "      <td>9.0</td>\n",
       "      <td>68.0</td>\n",
       "      <td>5000.0</td>\n",
       "      <td>31</td>\n",
       "      <td>38</td>\n",
       "      <td>6695.0</td>\n",
       "    </tr>\n",
       "    <tr>\n",
       "      <th>1</th>\n",
       "      <td>-1</td>\n",
       "      <td>toyota</td>\n",
       "      <td>gas</td>\n",
       "      <td>std</td>\n",
       "      <td>four</td>\n",
       "      <td>sedan</td>\n",
       "      <td>fwd</td>\n",
       "      <td>front</td>\n",
       "      <td>102.4</td>\n",
       "      <td>175.6</td>\n",
       "      <td>...</td>\n",
       "      <td>122</td>\n",
       "      <td>mpfi</td>\n",
       "      <td>3.31</td>\n",
       "      <td>3.54</td>\n",
       "      <td>8.7</td>\n",
       "      <td>92.0</td>\n",
       "      <td>4200.0</td>\n",
       "      <td>29</td>\n",
       "      <td>34</td>\n",
       "      <td>8948.0</td>\n",
       "    </tr>\n",
       "    <tr>\n",
       "      <th>2</th>\n",
       "      <td>1</td>\n",
       "      <td>nissan</td>\n",
       "      <td>gas</td>\n",
       "      <td>std</td>\n",
       "      <td>two</td>\n",
       "      <td>hatchback</td>\n",
       "      <td>fwd</td>\n",
       "      <td>front</td>\n",
       "      <td>94.5</td>\n",
       "      <td>165.6</td>\n",
       "      <td>...</td>\n",
       "      <td>97</td>\n",
       "      <td>2bbl</td>\n",
       "      <td>3.15</td>\n",
       "      <td>3.29</td>\n",
       "      <td>9.4</td>\n",
       "      <td>69.0</td>\n",
       "      <td>5200.0</td>\n",
       "      <td>31</td>\n",
       "      <td>37</td>\n",
       "      <td>7799.0</td>\n",
       "    </tr>\n",
       "    <tr>\n",
       "      <th>3</th>\n",
       "      <td>1</td>\n",
       "      <td>honda</td>\n",
       "      <td>gas</td>\n",
       "      <td>std</td>\n",
       "      <td>two</td>\n",
       "      <td>hatchback</td>\n",
       "      <td>fwd</td>\n",
       "      <td>front</td>\n",
       "      <td>93.7</td>\n",
       "      <td>150.0</td>\n",
       "      <td>...</td>\n",
       "      <td>92</td>\n",
       "      <td>1bbl</td>\n",
       "      <td>2.91</td>\n",
       "      <td>3.41</td>\n",
       "      <td>9.2</td>\n",
       "      <td>76.0</td>\n",
       "      <td>6000.0</td>\n",
       "      <td>30</td>\n",
       "      <td>34</td>\n",
       "      <td>7129.0</td>\n",
       "    </tr>\n",
       "    <tr>\n",
       "      <th>4</th>\n",
       "      <td>-1</td>\n",
       "      <td>plymouth</td>\n",
       "      <td>gas</td>\n",
       "      <td>std</td>\n",
       "      <td>four</td>\n",
       "      <td>wagon</td>\n",
       "      <td>fwd</td>\n",
       "      <td>front</td>\n",
       "      <td>103.3</td>\n",
       "      <td>174.6</td>\n",
       "      <td>...</td>\n",
       "      <td>122</td>\n",
       "      <td>2bbl</td>\n",
       "      <td>3.35</td>\n",
       "      <td>3.46</td>\n",
       "      <td>8.5</td>\n",
       "      <td>88.0</td>\n",
       "      <td>5000.0</td>\n",
       "      <td>24</td>\n",
       "      <td>30</td>\n",
       "      <td>8921.0</td>\n",
       "    </tr>\n",
       "  </tbody>\n",
       "</table>\n",
       "<p>5 rows × 25 columns</p>\n",
       "</div>"
      ],
      "text/plain": [
       "   symboling      make fuel-type aspiration num-of-doors body-style  \\\n",
       "0          1     mazda       gas        std         four      sedan   \n",
       "1         -1    toyota       gas        std         four      sedan   \n",
       "2          1    nissan       gas        std          two  hatchback   \n",
       "3          1     honda       gas        std          two  hatchback   \n",
       "4         -1  plymouth       gas        std         four      wagon   \n",
       "\n",
       "  drive-wheels engine-location  wheel-base  length  ...  engine-size  \\\n",
       "0          fwd           front        93.1   166.8  ...           91   \n",
       "1          fwd           front       102.4   175.6  ...          122   \n",
       "2          fwd           front        94.5   165.6  ...           97   \n",
       "3          fwd           front        93.7   150.0  ...           92   \n",
       "4          fwd           front       103.3   174.6  ...          122   \n",
       "\n",
       "   fuel-system  bore stroke compression-ratio  horsepower peak-rpm  city-mpg  \\\n",
       "0         2bbl  3.03   3.15               9.0        68.0   5000.0        31   \n",
       "1         mpfi  3.31   3.54               8.7        92.0   4200.0        29   \n",
       "2         2bbl  3.15   3.29               9.4        69.0   5200.0        31   \n",
       "3         1bbl  2.91   3.41               9.2        76.0   6000.0        30   \n",
       "4         2bbl  3.35   3.46               8.5        88.0   5000.0        24   \n",
       "\n",
       "   highway-mpg   price  \n",
       "0           38  6695.0  \n",
       "1           34  8948.0  \n",
       "2           37  7799.0  \n",
       "3           34  7129.0  \n",
       "4           30  8921.0  \n",
       "\n",
       "[5 rows x 25 columns]"
      ]
     },
     "execution_count": 184,
     "metadata": {},
     "output_type": "execute_result"
    }
   ],
   "source": [
    "df_slr = df.copy() # slr: simple linear regression\n",
    "df_slr = df_slr.sample(frac=1, random_state=101).reset_index(drop=True)\n",
    "\n",
    "df_slr.head()"
   ]
  },
  {
   "cell_type": "markdown",
   "metadata": {},
   "source": [
    "* Assign engine-size as the feature (x) and price as the target (y)"
   ]
  },
  {
   "cell_type": "code",
   "execution_count": 181,
   "metadata": {
    "tags": []
   },
   "outputs": [],
   "source": [
    "x_slr = df_slr['engine-size']\n",
    "y_slr = df_slr['price']"
   ]
  },
  {
   "cell_type": "markdown",
   "metadata": {},
   "source": [
    "* Add constant (represent of intercept) to x variable (where y = a + bx)"
   ]
  },
  {
   "cell_type": "code",
   "execution_count": 185,
   "metadata": {
    "tags": []
   },
   "outputs": [
    {
     "data": {
      "text/html": [
       "<div>\n",
       "<style scoped>\n",
       "    .dataframe tbody tr th:only-of-type {\n",
       "        vertical-align: middle;\n",
       "    }\n",
       "\n",
       "    .dataframe tbody tr th {\n",
       "        vertical-align: top;\n",
       "    }\n",
       "\n",
       "    .dataframe thead th {\n",
       "        text-align: right;\n",
       "    }\n",
       "</style>\n",
       "<table border=\"1\" class=\"dataframe\">\n",
       "  <thead>\n",
       "    <tr style=\"text-align: right;\">\n",
       "      <th></th>\n",
       "      <th>const</th>\n",
       "      <th>engine-size</th>\n",
       "    </tr>\n",
       "  </thead>\n",
       "  <tbody>\n",
       "    <tr>\n",
       "      <th>0</th>\n",
       "      <td>1.0</td>\n",
       "      <td>91</td>\n",
       "    </tr>\n",
       "    <tr>\n",
       "      <th>1</th>\n",
       "      <td>1.0</td>\n",
       "      <td>122</td>\n",
       "    </tr>\n",
       "    <tr>\n",
       "      <th>2</th>\n",
       "      <td>1.0</td>\n",
       "      <td>97</td>\n",
       "    </tr>\n",
       "    <tr>\n",
       "      <th>3</th>\n",
       "      <td>1.0</td>\n",
       "      <td>92</td>\n",
       "    </tr>\n",
       "    <tr>\n",
       "      <th>4</th>\n",
       "      <td>1.0</td>\n",
       "      <td>122</td>\n",
       "    </tr>\n",
       "  </tbody>\n",
       "</table>\n",
       "</div>"
      ],
      "text/plain": [
       "   const  engine-size\n",
       "0    1.0           91\n",
       "1    1.0          122\n",
       "2    1.0           97\n",
       "3    1.0           92\n",
       "4    1.0          122"
      ]
     },
     "execution_count": 185,
     "metadata": {},
     "output_type": "execute_result"
    }
   ],
   "source": [
    "x_slr = sm.add_constant(x_slr)\n",
    "x_slr.head()"
   ]
  },
  {
   "cell_type": "markdown",
   "metadata": {},
   "source": [
    "* Split data into a training set and testing set\n",
    "<br/>\n",
    "Split 75% of the data into a training set and 25% for testing the model. Scikit-learn library has the same function for this kind of task (model_selection.train_test_split)."
   ]
  },
  {
   "cell_type": "code",
   "execution_count": 188,
   "metadata": {
    "tags": []
   },
   "outputs": [
    {
     "data": {
      "text/plain": [
       "((144, 2), (48, 2))"
      ]
     },
     "execution_count": 188,
     "metadata": {},
     "output_type": "execute_result"
    }
   ],
   "source": [
    "train_size = int(0.75 * len(x_slr))\n",
    "\n",
    "x_train_slr = x_slr[:train_size]\n",
    "y_train_slr = y_slr[:train_size]\n",
    "\n",
    "x_test_slr = x_slr[train_size:]\n",
    "y_test_slr = y_slr[train_size:]\n",
    "\n",
    "x_train_slr.shape, x_test_slr.shape"
   ]
  },
  {
   "cell_type": "markdown",
   "metadata": {},
   "source": [
    "* Fit linear regression model and view the summary"
   ]
  },
  {
   "cell_type": "code",
   "execution_count": 189,
   "metadata": {},
   "outputs": [
    {
     "data": {
      "text/html": [
       "<table class=\"simpletable\">\n",
       "<caption>OLS Regression Results</caption>\n",
       "<tr>\n",
       "  <th>Dep. Variable:</th>          <td>price</td>      <th>  R-squared:         </th> <td>   0.792</td>\n",
       "</tr>\n",
       "<tr>\n",
       "  <th>Model:</th>                   <td>OLS</td>       <th>  Adj. R-squared:    </th> <td>   0.790</td>\n",
       "</tr>\n",
       "<tr>\n",
       "  <th>Method:</th>             <td>Least Squares</td>  <th>  F-statistic:       </th> <td>   539.4</td>\n",
       "</tr>\n",
       "<tr>\n",
       "  <th>Date:</th>             <td>Sun, 12 Mar 2023</td> <th>  Prob (F-statistic):</th> <td>3.28e-50</td>\n",
       "</tr>\n",
       "<tr>\n",
       "  <th>Time:</th>                 <td>20:15:21</td>     <th>  Log-Likelihood:    </th> <td> -1384.0</td>\n",
       "</tr>\n",
       "<tr>\n",
       "  <th>No. Observations:</th>      <td>   144</td>      <th>  AIC:               </th> <td>   2772.</td>\n",
       "</tr>\n",
       "<tr>\n",
       "  <th>Df Residuals:</th>          <td>   142</td>      <th>  BIC:               </th> <td>   2778.</td>\n",
       "</tr>\n",
       "<tr>\n",
       "  <th>Df Model:</th>              <td>     1</td>      <th>                     </th>     <td> </td>   \n",
       "</tr>\n",
       "<tr>\n",
       "  <th>Covariance Type:</th>      <td>nonrobust</td>    <th>                     </th>     <td> </td>   \n",
       "</tr>\n",
       "</table>\n",
       "<table class=\"simpletable\">\n",
       "<tr>\n",
       "       <td></td>          <th>coef</th>     <th>std err</th>      <th>t</th>      <th>P>|t|</th>  <th>[0.025</th>    <th>0.975]</th>  \n",
       "</tr>\n",
       "<tr>\n",
       "  <th>const</th>       <td>-1.001e+04</td> <td> 1036.836</td> <td>   -9.658</td> <td> 0.000</td> <td>-1.21e+04</td> <td>-7964.340</td>\n",
       "</tr>\n",
       "<tr>\n",
       "  <th>engine-size</th> <td>  181.8057</td> <td>    7.828</td> <td>   23.225</td> <td> 0.000</td> <td>  166.331</td> <td>  197.280</td>\n",
       "</tr>\n",
       "</table>\n",
       "<table class=\"simpletable\">\n",
       "<tr>\n",
       "  <th>Omnibus:</th>       <td>14.699</td> <th>  Durbin-Watson:     </th> <td>   1.859</td>\n",
       "</tr>\n",
       "<tr>\n",
       "  <th>Prob(Omnibus):</th> <td> 0.001</td> <th>  Jarque-Bera (JB):  </th> <td>  25.391</td>\n",
       "</tr>\n",
       "<tr>\n",
       "  <th>Skew:</th>          <td> 0.482</td> <th>  Prob(JB):          </th> <td>3.06e-06</td>\n",
       "</tr>\n",
       "<tr>\n",
       "  <th>Kurtosis:</th>      <td> 4.817</td> <th>  Cond. No.          </th> <td>    453.</td>\n",
       "</tr>\n",
       "</table><br/><br/>Notes:<br/>[1] Standard Errors assume that the covariance matrix of the errors is correctly specified."
      ],
      "text/plain": [
       "<class 'statsmodels.iolib.summary.Summary'>\n",
       "\"\"\"\n",
       "                            OLS Regression Results                            \n",
       "==============================================================================\n",
       "Dep. Variable:                  price   R-squared:                       0.792\n",
       "Model:                            OLS   Adj. R-squared:                  0.790\n",
       "Method:                 Least Squares   F-statistic:                     539.4\n",
       "Date:                Sun, 12 Mar 2023   Prob (F-statistic):           3.28e-50\n",
       "Time:                        20:15:21   Log-Likelihood:                -1384.0\n",
       "No. Observations:                 144   AIC:                             2772.\n",
       "Df Residuals:                     142   BIC:                             2778.\n",
       "Df Model:                           1                                         \n",
       "Covariance Type:            nonrobust                                         \n",
       "===============================================================================\n",
       "                  coef    std err          t      P>|t|      [0.025      0.975]\n",
       "-------------------------------------------------------------------------------\n",
       "const       -1.001e+04   1036.836     -9.658      0.000   -1.21e+04   -7964.340\n",
       "engine-size   181.8057      7.828     23.225      0.000     166.331     197.280\n",
       "==============================================================================\n",
       "Omnibus:                       14.699   Durbin-Watson:                   1.859\n",
       "Prob(Omnibus):                  0.001   Jarque-Bera (JB):               25.391\n",
       "Skew:                           0.482   Prob(JB):                     3.06e-06\n",
       "Kurtosis:                       4.817   Cond. No.                         453.\n",
       "==============================================================================\n",
       "\n",
       "Notes:\n",
       "[1] Standard Errors assume that the covariance matrix of the errors is correctly specified.\n",
       "\"\"\""
      ]
     },
     "execution_count": 189,
     "metadata": {},
     "output_type": "execute_result"
    }
   ],
   "source": [
    "model_slr = sm.OLS(y_train_slr, x_train_slr).fit()\n",
    "\n",
    "model_slr.summary()"
   ]
  },
  {
   "cell_type": "markdown",
   "metadata": {},
   "source": [
    "The model's R-squared is 0.792 or 79.2%, indicating that the linear model is reasonably effective in predicting price, given that it utilizes only one feature. This value signifies that the model captured 79.2% of the variance in the underlying data.\n",
    "\n",
    "The F-statistic and corresponding P-value evaluate the validity of the regression analysis in its entirety. A P-value less than 5% indicates the analysis is valid. The null hypothesis for this test is that all regression coefficients equal zero, which is not the case in this scenario. Therefore, the null hypothesis can be rejected, and the alternative hypothesis that regression coefficients are not equal to zero can be accepted.\n",
    "\n",
    "For each regression coefficient, a P-statistic and corresponding P-value quantify the precision and validity of the coefficient. The P-values of 0.000 for the intercept and 0.000 for the enginesize coefficient demonstrate their validity. The T-statistic and P-value confirm the statistical significance of the relationship between enginesize and price."
   ]
  },
  {
   "cell_type": "markdown",
   "metadata": {},
   "source": [
    "* Plot the linear regression model using"
   ]
  },
  {
   "cell_type": "code",
   "execution_count": 140,
   "metadata": {},
   "outputs": [
    {
     "name": "stdout",
     "output_type": "stream",
     "text": [
      "eval_env: 1\n"
     ]
    },
    {
     "data": {
      "image/png": "[encoded data removed]",
      "text/plain": [
       "<Figure size 864x576 with 4 Axes>"
      ]
     },
     "metadata": {
      "needs_background": "light"
     },
     "output_type": "display_data"
    }
   ],
   "source": [
    "fig = plt.figure(figsize=(12,8))\n",
    "\n",
    "fig = sm.graphics.plot_regress_exog(model_slr, 'engine-size', fig=fig)\n",
    "\n",
    "plt.show()"
   ]
  },
  {
   "cell_type": "markdown",
   "metadata": {},
   "source": [
    "The statsmodels' plot_regress_exog function allows for viewing regression results against a single regressor, which in this case is enginesize. Four different plots are generated by this function:\n",
    "\n",
    "* The upper-left ('Y and Fitted vs. X') plot displays the fitted values of the regression line (in red) versus the actual values of enginesize and price, with vertical lines representing prediction confidence intervals for each fitted value.\n",
    "* The second plot, showing the residuals of the regression versus the predictor variable (enginesize), can help identify any non-linear patterns. If residuals are evenly spread out around the 0 line, it indicates that the regression model does not have any non-linear patterns.\n",
    "* The Partial regression plot is used to demonstrate the effect of adding an independent variable to a model that already has one or more independent variables. As this is a single-variable model, the Partial regression plot simply displays a scatter plot of price versus horsepower with a fitted regression line.\n",
    "* Lastly, the CCPR (Component-Component Plus Residual) plot allows for assessing the impact of one regressor (enginesize) on the response variable (price) while accounting for the effects of other independent variables. In this case, as there are no other independent variables in this regression, the plot simply shows a scatter plot with a linear model fit on the data."
   ]
  },
  {
   "cell_type": "markdown",
   "metadata": {},
   "source": [
    "* Influence plot of the linear regression model"
   ]
  },
  {
   "cell_type": "code",
   "execution_count": 141,
   "metadata": {},
   "outputs": [
    {
     "data": {
      "image/png": "[encoded data removed]",
      "text/plain": [
       "<Figure size 432x288 with 1 Axes>"
      ]
     },
     "execution_count": 141,
     "metadata": {},
     "output_type": "execute_result"
    },
    {
     "data": {
      "image/png": "[encoded data removed]",
      "text/plain": [
       "<Figure size 432x288 with 1 Axes>"
      ]
     },
     "metadata": {
      "needs_background": "light"
     },
     "output_type": "display_data"
    }
   ],
   "source": [
    "sm.graphics.influence_plot(model_slr)"
   ]
  },
  {
   "cell_type": "markdown",
   "metadata": {},
   "source": [
    "The influence_plot can be utilized to gain a deeper understanding of the regression model. This plot enables the identification of records in the dataset that have had a significant influence on the regression analysis. The influential data points can be recognized by their large circles in the plot. For example, the data point with ID 103 has a significant impact on the regression results."
   ]
  },
  {
   "cell_type": "markdown",
   "metadata": {},
   "source": [
    "* Predict the testing data using the model"
   ]
  },
  {
   "cell_type": "code",
   "execution_count": 142,
   "metadata": {},
   "outputs": [
    {
     "data": {
      "text/plain": [
       "144     7802.991688\n",
       "145    12166.328913\n",
       "146    18347.723315\n",
       "147     9984.660300\n",
       "148    11802.717477\n",
       "dtype: float64"
      ]
     },
     "execution_count": 142,
     "metadata": {},
     "output_type": "execute_result"
    }
   ],
   "source": [
    "y_pred_slr = model_slr.predict(x_test_slr)\n",
    "\n",
    "y_pred_slr.head()"
   ]
  },
  {
   "cell_type": "markdown",
   "metadata": {},
   "source": [
    "* Plot the the test value and the corresponding predicted value"
   ]
  },
  {
   "cell_type": "code",
   "execution_count": 195,
   "metadata": {},
   "outputs": [
    {
     "data": {
      "image/png": "[encoded data removed]",
      "text/plain": [
       "<Figure size 864x576 with 1 Axes>"
      ]
     },
     "metadata": {
      "needs_background": "light"
     },
     "output_type": "display_data"
    }
   ],
   "source": [
    "fig, ax = plt.subplots(figsize=(12,8))\n",
    "\n",
    "plt.scatter(x_test_slr['engine-size'], y_test_slr)\n",
    "plt.plot(x_test_slr['engine-size'], y_pred_slr, color='g')\n",
    "\n",
    "plt.xlabel('Engine Size')\n",
    "plt.ylabel('Price')\n",
    "\n",
    "plt.show()"
   ]
  },
  {
   "cell_type": "markdown",
   "metadata": {},
   "source": [
    "The fitted line of the predicted values can be seen here. Here is a scatter plot of the test data (engine size vs. price) and the matching predicted value for each x value in the test data. It appears to have quite accurately approximated or fitted the test data."
   ]
  },
  {
   "cell_type": "code",
   "execution_count": 196,
   "metadata": {},
   "outputs": [
    {
     "data": {
      "text/plain": [
       "0.7754738656907856"
      ]
     },
     "execution_count": 196,
     "metadata": {},
     "output_type": "execute_result"
    }
   ],
   "source": [
    "from sklearn.metrics import r2_score\n",
    "\n",
    "r2_score(y_test_slr, y_pred_slr)"
   ]
  },
  {
   "cell_type": "markdown",
   "metadata": {},
   "source": [
    "The R-squared score (in Bahasa Indonesia: \"Koefisien Determinasi\") from statsmodels and sklearn is slightly different which is 0.792 and 0.775. The values can differ because the R-squared value was derived using a number of different formulas, but it's not a significantly differ because of the models and datasets are the same."
   ]
  },
  {
   "cell_type": "markdown",
   "metadata": {
    "tags": []
   },
   "source": [
    "# Multiple Linear Regression"
   ]
  },
  {
   "cell_type": "code",
   "execution_count": 22,
   "metadata": {},
   "outputs": [
    {
     "data": {
      "text/plain": [
       "Index(['car_ID', 'symboling', 'CarName', 'fueltype', 'aspiration',\n",
       "       'doornumber', 'carbody', 'drivewheel', 'enginelocation', 'wheelbase',\n",
       "       'carlength', 'carwidth', 'carheight', 'curbweight', 'enginetype',\n",
       "       'cylindernumber', 'enginesize', 'fuelsystem', 'boreratio', 'stroke',\n",
       "       'compressionratio', 'horsepower', 'peakrpm', 'citympg', 'highwaympg',\n",
       "       'price'],\n",
       "      dtype='object')"
      ]
     },
     "execution_count": 22,
     "metadata": {},
     "output_type": "execute_result"
    }
   ],
   "source": [
    "df_mplr = df.copy()\n",
    "df_mplr.columns"
   ]
  },
  {
   "cell_type": "code",
   "execution_count": 23,
   "metadata": {},
   "outputs": [],
   "source": [
    "cols = ['fueltype','aspiration','doornumber','enginelocation']"
   ]
  },
  {
   "cell_type": "code",
   "execution_count": 24,
   "metadata": {},
   "outputs": [
    {
     "data": {
      "text/html": [
       "<div>\n",
       "<style scoped>\n",
       "    .dataframe tbody tr th:only-of-type {\n",
       "        vertical-align: middle;\n",
       "    }\n",
       "\n",
       "    .dataframe tbody tr th {\n",
       "        vertical-align: top;\n",
       "    }\n",
       "\n",
       "    .dataframe thead th {\n",
       "        text-align: right;\n",
       "    }\n",
       "</style>\n",
       "<table border=\"1\" class=\"dataframe\">\n",
       "  <thead>\n",
       "    <tr style=\"text-align: right;\">\n",
       "      <th></th>\n",
       "      <th>fueltype</th>\n",
       "      <th>aspiration</th>\n",
       "      <th>doornumber</th>\n",
       "      <th>enginelocation</th>\n",
       "    </tr>\n",
       "  </thead>\n",
       "  <tbody>\n",
       "    <tr>\n",
       "      <th>184</th>\n",
       "      <td>0</td>\n",
       "      <td>0</td>\n",
       "      <td>0</td>\n",
       "      <td>0</td>\n",
       "    </tr>\n",
       "    <tr>\n",
       "      <th>120</th>\n",
       "      <td>1</td>\n",
       "      <td>0</td>\n",
       "      <td>0</td>\n",
       "      <td>0</td>\n",
       "    </tr>\n",
       "    <tr>\n",
       "      <th>65</th>\n",
       "      <td>1</td>\n",
       "      <td>0</td>\n",
       "      <td>0</td>\n",
       "      <td>0</td>\n",
       "    </tr>\n",
       "    <tr>\n",
       "      <th>3</th>\n",
       "      <td>1</td>\n",
       "      <td>0</td>\n",
       "      <td>0</td>\n",
       "      <td>0</td>\n",
       "    </tr>\n",
       "    <tr>\n",
       "      <th>154</th>\n",
       "      <td>1</td>\n",
       "      <td>0</td>\n",
       "      <td>0</td>\n",
       "      <td>0</td>\n",
       "    </tr>\n",
       "  </tbody>\n",
       "</table>\n",
       "</div>"
      ],
      "text/plain": [
       "     fueltype  aspiration  doornumber  enginelocation\n",
       "184         0           0           0               0\n",
       "120         1           0           0               0\n",
       "65          1           0           0               0\n",
       "3           1           0           0               0\n",
       "154         1           0           0               0"
      ]
     },
     "execution_count": 24,
     "metadata": {},
     "output_type": "execute_result"
    }
   ],
   "source": [
    "from sklearn.preprocessing import LabelEncoder\n",
    "le = LabelEncoder()\n",
    "\n",
    "for i in cols:\n",
    "    df_mplr[i] = le.fit_transform(df_mplr[i])\n",
    "    \n",
    "df_mplr[cols].sample(5)"
   ]
  },
  {
   "cell_type": "markdown",
   "metadata": {},
   "source": [
    "Many of the predictor columns that we'll use in our regression analysis are categorical in nature, that is, the values in these columns are from a well‑defined subset of values, a pre‑determined subset of values. Columns such as aspiration, door number, engine location, and fuel type have two possible values for each variable. Engine type could be diesel or gas, aspiration could be standard or turbo. Now, these categorical variables need to be converted to numeric form before you can feed these into your analytical or machine learning models. In order to convert these variables to numeric form, we'll use the LabelEncoder from the scikit‑learn library. To every discrete value that these variables take on, the label and quota will assign a unique integral value. For example, gas might be 0, fuel type diesel will be 1. I've run a little for loop here to iterate through each column and convert the value of that column to be in label‑encoded form. Let's take a look at the label‑encoded result. The binary values in each of these variables are now represented using 0 and 1. Before we pre‑process our data further, let's get rid of the car name and car ID columns, because we feel that they do not have predictive power. The name of the car or the ID of the car is not really relevant to our regression analysis, so we'll work with the rest of the data here. "
   ]
  },
  {
   "cell_type": "code",
   "execution_count": 25,
   "metadata": {},
   "outputs": [
    {
     "data": {
      "text/html": [
       "<div>\n",
       "<style scoped>\n",
       "    .dataframe tbody tr th:only-of-type {\n",
       "        vertical-align: middle;\n",
       "    }\n",
       "\n",
       "    .dataframe tbody tr th {\n",
       "        vertical-align: top;\n",
       "    }\n",
       "\n",
       "    .dataframe thead th {\n",
       "        text-align: right;\n",
       "    }\n",
       "</style>\n",
       "<table border=\"1\" class=\"dataframe\">\n",
       "  <thead>\n",
       "    <tr style=\"text-align: right;\">\n",
       "      <th></th>\n",
       "      <th>symboling</th>\n",
       "      <th>fueltype</th>\n",
       "      <th>aspiration</th>\n",
       "      <th>doornumber</th>\n",
       "      <th>enginelocation</th>\n",
       "      <th>wheelbase</th>\n",
       "      <th>carlength</th>\n",
       "      <th>carwidth</th>\n",
       "      <th>carheight</th>\n",
       "      <th>curbweight</th>\n",
       "      <th>...</th>\n",
       "      <th>cylindernumber_three</th>\n",
       "      <th>cylindernumber_twelve</th>\n",
       "      <th>cylindernumber_two</th>\n",
       "      <th>fuelsystem_2bbl</th>\n",
       "      <th>fuelsystem_4bbl</th>\n",
       "      <th>fuelsystem_idi</th>\n",
       "      <th>fuelsystem_mfi</th>\n",
       "      <th>fuelsystem_mpfi</th>\n",
       "      <th>fuelsystem_spdi</th>\n",
       "      <th>fuelsystem_spfi</th>\n",
       "    </tr>\n",
       "  </thead>\n",
       "  <tbody>\n",
       "    <tr>\n",
       "      <th>0</th>\n",
       "      <td>3</td>\n",
       "      <td>1</td>\n",
       "      <td>0</td>\n",
       "      <td>1</td>\n",
       "      <td>0</td>\n",
       "      <td>88.6</td>\n",
       "      <td>168.8</td>\n",
       "      <td>64.1</td>\n",
       "      <td>48.8</td>\n",
       "      <td>2548</td>\n",
       "      <td>...</td>\n",
       "      <td>0</td>\n",
       "      <td>0</td>\n",
       "      <td>0</td>\n",
       "      <td>0</td>\n",
       "      <td>0</td>\n",
       "      <td>0</td>\n",
       "      <td>0</td>\n",
       "      <td>1</td>\n",
       "      <td>0</td>\n",
       "      <td>0</td>\n",
       "    </tr>\n",
       "    <tr>\n",
       "      <th>1</th>\n",
       "      <td>3</td>\n",
       "      <td>1</td>\n",
       "      <td>0</td>\n",
       "      <td>1</td>\n",
       "      <td>0</td>\n",
       "      <td>88.6</td>\n",
       "      <td>168.8</td>\n",
       "      <td>64.1</td>\n",
       "      <td>48.8</td>\n",
       "      <td>2548</td>\n",
       "      <td>...</td>\n",
       "      <td>0</td>\n",
       "      <td>0</td>\n",
       "      <td>0</td>\n",
       "      <td>0</td>\n",
       "      <td>0</td>\n",
       "      <td>0</td>\n",
       "      <td>0</td>\n",
       "      <td>1</td>\n",
       "      <td>0</td>\n",
       "      <td>0</td>\n",
       "    </tr>\n",
       "    <tr>\n",
       "      <th>2</th>\n",
       "      <td>1</td>\n",
       "      <td>1</td>\n",
       "      <td>0</td>\n",
       "      <td>1</td>\n",
       "      <td>0</td>\n",
       "      <td>94.5</td>\n",
       "      <td>171.2</td>\n",
       "      <td>65.5</td>\n",
       "      <td>52.4</td>\n",
       "      <td>2823</td>\n",
       "      <td>...</td>\n",
       "      <td>0</td>\n",
       "      <td>0</td>\n",
       "      <td>0</td>\n",
       "      <td>0</td>\n",
       "      <td>0</td>\n",
       "      <td>0</td>\n",
       "      <td>0</td>\n",
       "      <td>1</td>\n",
       "      <td>0</td>\n",
       "      <td>0</td>\n",
       "    </tr>\n",
       "    <tr>\n",
       "      <th>3</th>\n",
       "      <td>2</td>\n",
       "      <td>1</td>\n",
       "      <td>0</td>\n",
       "      <td>0</td>\n",
       "      <td>0</td>\n",
       "      <td>99.8</td>\n",
       "      <td>176.6</td>\n",
       "      <td>66.2</td>\n",
       "      <td>54.3</td>\n",
       "      <td>2337</td>\n",
       "      <td>...</td>\n",
       "      <td>0</td>\n",
       "      <td>0</td>\n",
       "      <td>0</td>\n",
       "      <td>0</td>\n",
       "      <td>0</td>\n",
       "      <td>0</td>\n",
       "      <td>0</td>\n",
       "      <td>1</td>\n",
       "      <td>0</td>\n",
       "      <td>0</td>\n",
       "    </tr>\n",
       "    <tr>\n",
       "      <th>4</th>\n",
       "      <td>2</td>\n",
       "      <td>1</td>\n",
       "      <td>0</td>\n",
       "      <td>0</td>\n",
       "      <td>0</td>\n",
       "      <td>99.4</td>\n",
       "      <td>176.6</td>\n",
       "      <td>66.4</td>\n",
       "      <td>54.3</td>\n",
       "      <td>2824</td>\n",
       "      <td>...</td>\n",
       "      <td>0</td>\n",
       "      <td>0</td>\n",
       "      <td>0</td>\n",
       "      <td>0</td>\n",
       "      <td>0</td>\n",
       "      <td>0</td>\n",
       "      <td>0</td>\n",
       "      <td>1</td>\n",
       "      <td>0</td>\n",
       "      <td>0</td>\n",
       "    </tr>\n",
       "  </tbody>\n",
       "</table>\n",
       "<p>5 rows × 44 columns</p>\n",
       "</div>"
      ],
      "text/plain": [
       "   symboling  fueltype  aspiration  doornumber  enginelocation  wheelbase  \\\n",
       "0          3         1           0           1               0       88.6   \n",
       "1          3         1           0           1               0       88.6   \n",
       "2          1         1           0           1               0       94.5   \n",
       "3          2         1           0           0               0       99.8   \n",
       "4          2         1           0           0               0       99.4   \n",
       "\n",
       "   carlength  carwidth  carheight  curbweight  ...  cylindernumber_three  \\\n",
       "0      168.8      64.1       48.8        2548  ...                     0   \n",
       "1      168.8      64.1       48.8        2548  ...                     0   \n",
       "2      171.2      65.5       52.4        2823  ...                     0   \n",
       "3      176.6      66.2       54.3        2337  ...                     0   \n",
       "4      176.6      66.4       54.3        2824  ...                     0   \n",
       "\n",
       "   cylindernumber_twelve  cylindernumber_two  fuelsystem_2bbl  \\\n",
       "0                      0                   0                0   \n",
       "1                      0                   0                0   \n",
       "2                      0                   0                0   \n",
       "3                      0                   0                0   \n",
       "4                      0                   0                0   \n",
       "\n",
       "   fuelsystem_4bbl  fuelsystem_idi  fuelsystem_mfi  fuelsystem_mpfi  \\\n",
       "0                0               0               0                1   \n",
       "1                0               0               0                1   \n",
       "2                0               0               0                1   \n",
       "3                0               0               0                1   \n",
       "4                0               0               0                1   \n",
       "\n",
       "   fuelsystem_spdi  fuelsystem_spfi  \n",
       "0                0                0  \n",
       "1                0                0  \n",
       "2                0                0  \n",
       "3                0                0  \n",
       "4                0                0  \n",
       "\n",
       "[5 rows x 44 columns]"
      ]
     },
     "execution_count": 25,
     "metadata": {},
     "output_type": "execute_result"
    }
   ],
   "source": [
    "df_mplr = df_mplr.drop(columns=['CarName', 'car_ID'])\n",
    "\n",
    "cat_columns = ['carbody', 'enginetype', 'drivewheel', 'cylindernumber', 'fuelsystem']\n",
    "for i in cat_columns:\n",
    "    df_mplr = pd.concat([df_mplr.drop(i, axis=1),\n",
    "                         pd.get_dummies(df_mplr[i],\n",
    "                                        prefix = i,\n",
    "                                        prefix_sep = '_',\n",
    "                                        drop_first = True)], axis=1)\n",
    "\n",
    "df_mplr.head()"
   ]
  },
  {
   "cell_type": "markdown",
   "metadata": {},
   "source": [
    "Now we have a bunch of categorical columns where each column has more than two values. So these are not binary categories. For example, car body here could be one of five different categories, and we've seen that earlier. Now for these categorical columns, I'm going to one‑hot encode these values to represent them in numeric form. One‑hot encoding will replace the original column with a new column, one corresponding to each category value. So we'll have a column for convertible, a column for sedan, a column for hatchback, and so on. A value of 1 will indicate that the car belongs to that category. A value of 0 indicates the car does not belong to a category. Now you can perform one‑hot encoding using pd.get_dummies. Observe that I have dropped the original categorical column using the .drop function, and I replace that column using the set of one‑hot encoded columns for the same variable. Let's take a look at our DataFrame where we've successfully, numerically encoded all of our categorical values. Take a look at the one‑hot encoded columns here. Our original data contained seven possible values for the fuel type variable. Each category is now a separate column in this dataset. All of the records displayed have fuel system equal to MPFI. So we have one in that column. The remaining columns are all 0s. Now that we've performed all of the pre‑processing that we need to on this data, let's just shuffle the data that we'll work with so that the car records are not in any predictable o]rder."
   ]
  },
  {
   "cell_type": "code",
   "execution_count": 26,
   "metadata": {},
   "outputs": [
    {
     "data": {
      "text/plain": [
       "(205, 44)"
      ]
     },
     "execution_count": 26,
     "metadata": {},
     "output_type": "execute_result"
    }
   ],
   "source": [
    "df_mplr.shape"
   ]
  },
  {
   "cell_type": "code",
   "execution_count": 27,
   "metadata": {},
   "outputs": [],
   "source": [
    "df_mplr = df_mplr.sample(frac=1).reset_index(drop=True)"
   ]
  },
  {
   "cell_type": "code",
   "execution_count": 28,
   "metadata": {},
   "outputs": [],
   "source": [
    "x_mplr = df_mplr.drop(['price'], axis=1)\n",
    "\n",
    "y_mplr = df_mplr['price']"
   ]
  },
  {
   "cell_type": "code",
   "execution_count": 29,
   "metadata": {},
   "outputs": [
    {
     "data": {
      "text/html": [
       "<div>\n",
       "<style scoped>\n",
       "    .dataframe tbody tr th:only-of-type {\n",
       "        vertical-align: middle;\n",
       "    }\n",
       "\n",
       "    .dataframe tbody tr th {\n",
       "        vertical-align: top;\n",
       "    }\n",
       "\n",
       "    .dataframe thead th {\n",
       "        text-align: right;\n",
       "    }\n",
       "</style>\n",
       "<table border=\"1\" class=\"dataframe\">\n",
       "  <thead>\n",
       "    <tr style=\"text-align: right;\">\n",
       "      <th></th>\n",
       "      <th>const</th>\n",
       "      <th>symboling</th>\n",
       "      <th>fueltype</th>\n",
       "      <th>aspiration</th>\n",
       "      <th>doornumber</th>\n",
       "      <th>enginelocation</th>\n",
       "      <th>wheelbase</th>\n",
       "      <th>carlength</th>\n",
       "      <th>carwidth</th>\n",
       "      <th>carheight</th>\n",
       "      <th>...</th>\n",
       "      <th>cylindernumber_three</th>\n",
       "      <th>cylindernumber_twelve</th>\n",
       "      <th>cylindernumber_two</th>\n",
       "      <th>fuelsystem_2bbl</th>\n",
       "      <th>fuelsystem_4bbl</th>\n",
       "      <th>fuelsystem_idi</th>\n",
       "      <th>fuelsystem_mfi</th>\n",
       "      <th>fuelsystem_mpfi</th>\n",
       "      <th>fuelsystem_spdi</th>\n",
       "      <th>fuelsystem_spfi</th>\n",
       "    </tr>\n",
       "  </thead>\n",
       "  <tbody>\n",
       "    <tr>\n",
       "      <th>0</th>\n",
       "      <td>1.0</td>\n",
       "      <td>-1</td>\n",
       "      <td>1</td>\n",
       "      <td>0</td>\n",
       "      <td>0</td>\n",
       "      <td>0</td>\n",
       "      <td>103.3</td>\n",
       "      <td>174.6</td>\n",
       "      <td>64.6</td>\n",
       "      <td>59.8</td>\n",
       "      <td>...</td>\n",
       "      <td>0</td>\n",
       "      <td>0</td>\n",
       "      <td>0</td>\n",
       "      <td>1</td>\n",
       "      <td>0</td>\n",
       "      <td>0</td>\n",
       "      <td>0</td>\n",
       "      <td>0</td>\n",
       "      <td>0</td>\n",
       "      <td>0</td>\n",
       "    </tr>\n",
       "    <tr>\n",
       "      <th>1</th>\n",
       "      <td>1.0</td>\n",
       "      <td>0</td>\n",
       "      <td>1</td>\n",
       "      <td>0</td>\n",
       "      <td>0</td>\n",
       "      <td>0</td>\n",
       "      <td>96.5</td>\n",
       "      <td>163.4</td>\n",
       "      <td>64.0</td>\n",
       "      <td>54.5</td>\n",
       "      <td>...</td>\n",
       "      <td>0</td>\n",
       "      <td>0</td>\n",
       "      <td>0</td>\n",
       "      <td>0</td>\n",
       "      <td>0</td>\n",
       "      <td>0</td>\n",
       "      <td>0</td>\n",
       "      <td>0</td>\n",
       "      <td>0</td>\n",
       "      <td>0</td>\n",
       "    </tr>\n",
       "    <tr>\n",
       "      <th>2</th>\n",
       "      <td>1.0</td>\n",
       "      <td>2</td>\n",
       "      <td>1</td>\n",
       "      <td>0</td>\n",
       "      <td>1</td>\n",
       "      <td>0</td>\n",
       "      <td>96.1</td>\n",
       "      <td>176.8</td>\n",
       "      <td>66.6</td>\n",
       "      <td>50.5</td>\n",
       "      <td>...</td>\n",
       "      <td>0</td>\n",
       "      <td>0</td>\n",
       "      <td>0</td>\n",
       "      <td>0</td>\n",
       "      <td>0</td>\n",
       "      <td>0</td>\n",
       "      <td>0</td>\n",
       "      <td>1</td>\n",
       "      <td>0</td>\n",
       "      <td>0</td>\n",
       "    </tr>\n",
       "    <tr>\n",
       "      <th>3</th>\n",
       "      <td>1.0</td>\n",
       "      <td>1</td>\n",
       "      <td>1</td>\n",
       "      <td>0</td>\n",
       "      <td>1</td>\n",
       "      <td>0</td>\n",
       "      <td>94.5</td>\n",
       "      <td>168.7</td>\n",
       "      <td>64.0</td>\n",
       "      <td>52.6</td>\n",
       "      <td>...</td>\n",
       "      <td>0</td>\n",
       "      <td>0</td>\n",
       "      <td>0</td>\n",
       "      <td>0</td>\n",
       "      <td>0</td>\n",
       "      <td>0</td>\n",
       "      <td>0</td>\n",
       "      <td>1</td>\n",
       "      <td>0</td>\n",
       "      <td>0</td>\n",
       "    </tr>\n",
       "    <tr>\n",
       "      <th>4</th>\n",
       "      <td>1.0</td>\n",
       "      <td>0</td>\n",
       "      <td>1</td>\n",
       "      <td>0</td>\n",
       "      <td>0</td>\n",
       "      <td>0</td>\n",
       "      <td>101.2</td>\n",
       "      <td>176.8</td>\n",
       "      <td>64.8</td>\n",
       "      <td>54.3</td>\n",
       "      <td>...</td>\n",
       "      <td>0</td>\n",
       "      <td>0</td>\n",
       "      <td>0</td>\n",
       "      <td>0</td>\n",
       "      <td>0</td>\n",
       "      <td>0</td>\n",
       "      <td>0</td>\n",
       "      <td>1</td>\n",
       "      <td>0</td>\n",
       "      <td>0</td>\n",
       "    </tr>\n",
       "  </tbody>\n",
       "</table>\n",
       "<p>5 rows × 44 columns</p>\n",
       "</div>"
      ],
      "text/plain": [
       "   const  symboling  fueltype  aspiration  doornumber  enginelocation  \\\n",
       "0    1.0         -1         1           0           0               0   \n",
       "1    1.0          0         1           0           0               0   \n",
       "2    1.0          2         1           0           1               0   \n",
       "3    1.0          1         1           0           1               0   \n",
       "4    1.0          0         1           0           0               0   \n",
       "\n",
       "   wheelbase  carlength  carwidth  carheight  ...  cylindernumber_three  \\\n",
       "0      103.3      174.6      64.6       59.8  ...                     0   \n",
       "1       96.5      163.4      64.0       54.5  ...                     0   \n",
       "2       96.1      176.8      66.6       50.5  ...                     0   \n",
       "3       94.5      168.7      64.0       52.6  ...                     0   \n",
       "4      101.2      176.8      64.8       54.3  ...                     0   \n",
       "\n",
       "   cylindernumber_twelve  cylindernumber_two  fuelsystem_2bbl  \\\n",
       "0                      0                   0                1   \n",
       "1                      0                   0                0   \n",
       "2                      0                   0                0   \n",
       "3                      0                   0                0   \n",
       "4                      0                   0                0   \n",
       "\n",
       "   fuelsystem_4bbl  fuelsystem_idi  fuelsystem_mfi  fuelsystem_mpfi  \\\n",
       "0                0               0               0                0   \n",
       "1                0               0               0                0   \n",
       "2                0               0               0                1   \n",
       "3                0               0               0                1   \n",
       "4                0               0               0                1   \n",
       "\n",
       "   fuelsystem_spdi  fuelsystem_spfi  \n",
       "0                0                0  \n",
       "1                0                0  \n",
       "2                0                0  \n",
       "3                0                0  \n",
       "4                0                0  \n",
       "\n",
       "[5 rows x 44 columns]"
      ]
     },
     "execution_count": 29,
     "metadata": {},
     "output_type": "execute_result"
    }
   ],
   "source": [
    "x_mplr = sm.add_constant(x_mplr)\n",
    "\n",
    "x_mplr.head()"
   ]
  },
  {
   "cell_type": "code",
   "execution_count": 30,
   "metadata": {},
   "outputs": [],
   "source": [
    "train_size = int(0.75 * len(x_mplr))\n",
    "\n",
    "x_train_mplr = x_mplr[:train_size]\n",
    "y_train_mplr = y_mplr[:train_size]\n",
    "\n",
    "x_test_mplr = x_mplr[train_size:]\n",
    "y_test_mplr = y_mplr[train_size:]"
   ]
  },
  {
   "cell_type": "code",
   "execution_count": 31,
   "metadata": {},
   "outputs": [
    {
     "data": {
      "text/html": [
       "<table class=\"simpletable\">\n",
       "<caption>OLS Regression Results</caption>\n",
       "<tr>\n",
       "  <th>Dep. Variable:</th>          <td>price</td>      <th>  R-squared:         </th> <td>   0.947</td>\n",
       "</tr>\n",
       "<tr>\n",
       "  <th>Model:</th>                   <td>OLS</td>       <th>  Adj. R-squared:    </th> <td>   0.929</td>\n",
       "</tr>\n",
       "<tr>\n",
       "  <th>Method:</th>             <td>Least Squares</td>  <th>  F-statistic:       </th> <td>   53.33</td>\n",
       "</tr>\n",
       "<tr>\n",
       "  <th>Date:</th>             <td>Fri, 03 Mar 2023</td> <th>  Prob (F-statistic):</th> <td>9.22e-57</td>\n",
       "</tr>\n",
       "<tr>\n",
       "  <th>Time:</th>                 <td>11:38:26</td>     <th>  Log-Likelihood:    </th> <td> -1368.2</td>\n",
       "</tr>\n",
       "<tr>\n",
       "  <th>No. Observations:</th>      <td>   153</td>      <th>  AIC:               </th> <td>   2814.</td>\n",
       "</tr>\n",
       "<tr>\n",
       "  <th>Df Residuals:</th>          <td>   114</td>      <th>  BIC:               </th> <td>   2933.</td>\n",
       "</tr>\n",
       "<tr>\n",
       "  <th>Df Model:</th>              <td>    38</td>      <th>                     </th>     <td> </td>   \n",
       "</tr>\n",
       "<tr>\n",
       "  <th>Covariance Type:</th>      <td>nonrobust</td>    <th>                     </th>     <td> </td>   \n",
       "</tr>\n",
       "</table>\n",
       "<table class=\"simpletable\">\n",
       "<tr>\n",
       "            <td></td>               <th>coef</th>     <th>std err</th>      <th>t</th>      <th>P>|t|</th>  <th>[0.025</th>    <th>0.975]</th>  \n",
       "</tr>\n",
       "<tr>\n",
       "  <th>const</th>                 <td>-1.813e+04</td> <td> 1.21e+04</td> <td>   -1.498</td> <td> 0.137</td> <td>-4.21e+04</td> <td> 5844.178</td>\n",
       "</tr>\n",
       "<tr>\n",
       "  <th>symboling</th>             <td>  172.0280</td> <td>  273.819</td> <td>    0.628</td> <td> 0.531</td> <td> -370.405</td> <td>  714.461</td>\n",
       "</tr>\n",
       "<tr>\n",
       "  <th>fueltype</th>              <td> -1.64e+04</td> <td> 6039.383</td> <td>   -2.716</td> <td> 0.008</td> <td>-2.84e+04</td> <td>-4438.981</td>\n",
       "</tr>\n",
       "<tr>\n",
       "  <th>aspiration</th>            <td> 1385.9448</td> <td>  997.520</td> <td>    1.389</td> <td> 0.167</td> <td> -590.136</td> <td> 3362.025</td>\n",
       "</tr>\n",
       "<tr>\n",
       "  <th>doornumber</th>            <td>  487.8385</td> <td>  688.546</td> <td>    0.709</td> <td> 0.480</td> <td> -876.165</td> <td> 1851.842</td>\n",
       "</tr>\n",
       "<tr>\n",
       "  <th>enginelocation</th>        <td> 9997.8858</td> <td> 2804.876</td> <td>    3.564</td> <td> 0.001</td> <td> 4441.447</td> <td> 1.56e+04</td>\n",
       "</tr>\n",
       "<tr>\n",
       "  <th>wheelbase</th>             <td>   -4.7337</td> <td>  108.505</td> <td>   -0.044</td> <td> 0.965</td> <td> -219.682</td> <td>  210.214</td>\n",
       "</tr>\n",
       "<tr>\n",
       "  <th>carlength</th>             <td>  -53.8651</td> <td>   59.353</td> <td>   -0.908</td> <td> 0.366</td> <td> -171.442</td> <td>   63.712</td>\n",
       "</tr>\n",
       "<tr>\n",
       "  <th>carwidth</th>              <td>  678.3596</td> <td>  305.540</td> <td>    2.220</td> <td> 0.028</td> <td>   73.088</td> <td> 1283.631</td>\n",
       "</tr>\n",
       "<tr>\n",
       "  <th>carheight</th>             <td>   28.6386</td> <td>  143.895</td> <td>    0.199</td> <td> 0.843</td> <td> -256.416</td> <td>  313.693</td>\n",
       "</tr>\n",
       "<tr>\n",
       "  <th>curbweight</th>            <td>    6.2227</td> <td>    2.365</td> <td>    2.631</td> <td> 0.010</td> <td>    1.538</td> <td>   10.907</td>\n",
       "</tr>\n",
       "<tr>\n",
       "  <th>enginesize</th>            <td>   92.7399</td> <td>   30.930</td> <td>    2.998</td> <td> 0.003</td> <td>   31.468</td> <td>  154.012</td>\n",
       "</tr>\n",
       "<tr>\n",
       "  <th>boreratio</th>             <td> 1454.0275</td> <td> 2053.375</td> <td>    0.708</td> <td> 0.480</td> <td>-2613.693</td> <td> 5521.748</td>\n",
       "</tr>\n",
       "<tr>\n",
       "  <th>stroke</th>                <td>-5302.2881</td> <td> 1082.562</td> <td>   -4.898</td> <td> 0.000</td> <td>-7446.835</td> <td>-3157.741</td>\n",
       "</tr>\n",
       "<tr>\n",
       "  <th>compressionratio</th>      <td>-1007.0745</td> <td>  603.705</td> <td>   -1.668</td> <td> 0.098</td> <td>-2203.009</td> <td>  188.860</td>\n",
       "</tr>\n",
       "<tr>\n",
       "  <th>horsepower</th>            <td>  -17.8256</td> <td>   24.613</td> <td>   -0.724</td> <td> 0.470</td> <td>  -66.583</td> <td>   30.932</td>\n",
       "</tr>\n",
       "<tr>\n",
       "  <th>peakrpm</th>               <td>    2.8648</td> <td>    0.702</td> <td>    4.079</td> <td> 0.000</td> <td>    1.473</td> <td>    4.256</td>\n",
       "</tr>\n",
       "<tr>\n",
       "  <th>citympg</th>               <td>  -59.3763</td> <td>  167.252</td> <td>   -0.355</td> <td> 0.723</td> <td> -390.701</td> <td>  271.948</td>\n",
       "</tr>\n",
       "<tr>\n",
       "  <th>highwaympg</th>            <td>  103.8597</td> <td>  152.273</td> <td>    0.682</td> <td> 0.497</td> <td> -197.792</td> <td>  405.511</td>\n",
       "</tr>\n",
       "<tr>\n",
       "  <th>carbody_hardtop</th>       <td>-4281.1716</td> <td> 1518.983</td> <td>   -2.818</td> <td> 0.006</td> <td>-7290.265</td> <td>-1272.078</td>\n",
       "</tr>\n",
       "<tr>\n",
       "  <th>carbody_hatchback</th>     <td>-3154.2565</td> <td> 1351.642</td> <td>   -2.334</td> <td> 0.021</td> <td>-5831.849</td> <td> -476.664</td>\n",
       "</tr>\n",
       "<tr>\n",
       "  <th>carbody_sedan</th>         <td>-1588.5682</td> <td> 1492.940</td> <td>   -1.064</td> <td> 0.290</td> <td>-4546.071</td> <td> 1368.935</td>\n",
       "</tr>\n",
       "<tr>\n",
       "  <th>carbody_wagon</th>         <td>-2989.3871</td> <td> 1634.535</td> <td>   -1.829</td> <td> 0.070</td> <td>-6227.388</td> <td>  248.614</td>\n",
       "</tr>\n",
       "<tr>\n",
       "  <th>enginetype_dohcv</th>      <td>-4532.3016</td> <td> 5386.570</td> <td>   -0.841</td> <td> 0.402</td> <td>-1.52e+04</td> <td> 6138.453</td>\n",
       "</tr>\n",
       "<tr>\n",
       "  <th>enginetype_l</th>          <td> -700.8239</td> <td> 1791.733</td> <td>   -0.391</td> <td> 0.696</td> <td>-4250.234</td> <td> 2848.586</td>\n",
       "</tr>\n",
       "<tr>\n",
       "  <th>enginetype_ohc</th>        <td> 4430.9145</td> <td> 1018.589</td> <td>    4.350</td> <td> 0.000</td> <td> 2413.098</td> <td> 6448.731</td>\n",
       "</tr>\n",
       "<tr>\n",
       "  <th>enginetype_ohcf</th>       <td>  384.4982</td> <td> 1916.247</td> <td>    0.201</td> <td> 0.841</td> <td>-3411.573</td> <td> 4180.569</td>\n",
       "</tr>\n",
       "<tr>\n",
       "  <th>enginetype_ohcv</th>       <td>-5988.9966</td> <td> 1613.561</td> <td>   -3.712</td> <td> 0.000</td> <td>-9185.449</td> <td>-2792.545</td>\n",
       "</tr>\n",
       "<tr>\n",
       "  <th>enginetype_rotor</th>      <td> -820.3427</td> <td> 2581.993</td> <td>   -0.318</td> <td> 0.751</td> <td>-5935.251</td> <td> 4294.565</td>\n",
       "</tr>\n",
       "<tr>\n",
       "  <th>drivewheel_fwd</th>        <td>  179.0951</td> <td> 1123.233</td> <td>    0.159</td> <td> 0.874</td> <td>-2046.020</td> <td> 2404.210</td>\n",
       "</tr>\n",
       "<tr>\n",
       "  <th>drivewheel_rwd</th>        <td>  753.5939</td> <td> 1418.737</td> <td>    0.531</td> <td> 0.596</td> <td>-2056.913</td> <td> 3564.101</td>\n",
       "</tr>\n",
       "<tr>\n",
       "  <th>cylindernumber_five</th>   <td>-1.098e+04</td> <td> 3440.930</td> <td>   -3.192</td> <td> 0.002</td> <td>-1.78e+04</td> <td>-4165.720</td>\n",
       "</tr>\n",
       "<tr>\n",
       "  <th>cylindernumber_four</th>   <td>-1.208e+04</td> <td> 3781.647</td> <td>   -3.195</td> <td> 0.002</td> <td>-1.96e+04</td> <td>-4589.912</td>\n",
       "</tr>\n",
       "<tr>\n",
       "  <th>cylindernumber_six</th>    <td>-6268.2755</td> <td> 2781.162</td> <td>   -2.254</td> <td> 0.026</td> <td>-1.18e+04</td> <td> -758.815</td>\n",
       "</tr>\n",
       "<tr>\n",
       "  <th>cylindernumber_three</th>  <td>-9.374e-12</td> <td>    5e-12</td> <td>   -1.874</td> <td> 0.063</td> <td>-1.93e-11</td> <td> 5.34e-13</td>\n",
       "</tr>\n",
       "<tr>\n",
       "  <th>cylindernumber_twelve</th> <td>-5442.5849</td> <td> 4914.918</td> <td>   -1.107</td> <td> 0.270</td> <td>-1.52e+04</td> <td> 4293.830</td>\n",
       "</tr>\n",
       "<tr>\n",
       "  <th>cylindernumber_two</th>    <td> -820.3427</td> <td> 2581.993</td> <td>   -0.318</td> <td> 0.751</td> <td>-5935.251</td> <td> 4294.565</td>\n",
       "</tr>\n",
       "<tr>\n",
       "  <th>fuelsystem_2bbl</th>       <td> -136.6488</td> <td>  987.236</td> <td>   -0.138</td> <td> 0.890</td> <td>-2092.356</td> <td> 1819.058</td>\n",
       "</tr>\n",
       "<tr>\n",
       "  <th>fuelsystem_4bbl</th>       <td>-3200.6491</td> <td> 3293.386</td> <td>   -0.972</td> <td> 0.333</td> <td>-9724.822</td> <td> 3323.524</td>\n",
       "</tr>\n",
       "<tr>\n",
       "  <th>fuelsystem_idi</th>        <td>-1731.4397</td> <td> 8253.136</td> <td>   -0.210</td> <td> 0.834</td> <td>-1.81e+04</td> <td> 1.46e+04</td>\n",
       "</tr>\n",
       "<tr>\n",
       "  <th>fuelsystem_mfi</th>        <td>         0</td> <td>        0</td> <td>      nan</td> <td>   nan</td> <td>        0</td> <td>        0</td>\n",
       "</tr>\n",
       "<tr>\n",
       "  <th>fuelsystem_mpfi</th>       <td> -528.0756</td> <td> 1135.233</td> <td>   -0.465</td> <td> 0.643</td> <td>-2776.962</td> <td> 1720.811</td>\n",
       "</tr>\n",
       "<tr>\n",
       "  <th>fuelsystem_spdi</th>       <td>-2897.7578</td> <td> 1561.728</td> <td>   -1.855</td> <td> 0.066</td> <td>-5991.529</td> <td>  196.013</td>\n",
       "</tr>\n",
       "<tr>\n",
       "  <th>fuelsystem_spfi</th>       <td>         0</td> <td>        0</td> <td>      nan</td> <td>   nan</td> <td>        0</td> <td>        0</td>\n",
       "</tr>\n",
       "</table>\n",
       "<table class=\"simpletable\">\n",
       "<tr>\n",
       "  <th>Omnibus:</th>       <td>34.528</td> <th>  Durbin-Watson:     </th> <td>   2.177</td>\n",
       "</tr>\n",
       "<tr>\n",
       "  <th>Prob(Omnibus):</th> <td> 0.000</td> <th>  Jarque-Bera (JB):  </th> <td>  91.027</td>\n",
       "</tr>\n",
       "<tr>\n",
       "  <th>Skew:</th>          <td> 0.891</td> <th>  Prob(JB):          </th> <td>1.71e-20</td>\n",
       "</tr>\n",
       "<tr>\n",
       "  <th>Kurtosis:</th>      <td> 6.332</td> <th>  Cond. No.          </th> <td>1.00e+16</td>\n",
       "</tr>\n",
       "</table><br/><br/>Notes:<br/>[1] Standard Errors assume that the covariance matrix of the errors is correctly specified.<br/>[2] The smallest eigenvalue is 5.06e-23. This might indicate that there are<br/>strong multicollinearity problems or that the design matrix is singular."
      ],
      "text/plain": [
       "<class 'statsmodels.iolib.summary.Summary'>\n",
       "\"\"\"\n",
       "                            OLS Regression Results                            \n",
       "==============================================================================\n",
       "Dep. Variable:                  price   R-squared:                       0.947\n",
       "Model:                            OLS   Adj. R-squared:                  0.929\n",
       "Method:                 Least Squares   F-statistic:                     53.33\n",
       "Date:                Fri, 03 Mar 2023   Prob (F-statistic):           9.22e-57\n",
       "Time:                        11:38:26   Log-Likelihood:                -1368.2\n",
       "No. Observations:                 153   AIC:                             2814.\n",
       "Df Residuals:                     114   BIC:                             2933.\n",
       "Df Model:                          38                                         \n",
       "Covariance Type:            nonrobust                                         \n",
       "=========================================================================================\n",
       "                            coef    std err          t      P>|t|      [0.025      0.975]\n",
       "-----------------------------------------------------------------------------------------\n",
       "const                 -1.813e+04   1.21e+04     -1.498      0.137   -4.21e+04    5844.178\n",
       "symboling               172.0280    273.819      0.628      0.531    -370.405     714.461\n",
       "fueltype               -1.64e+04   6039.383     -2.716      0.008   -2.84e+04   -4438.981\n",
       "aspiration             1385.9448    997.520      1.389      0.167    -590.136    3362.025\n",
       "doornumber              487.8385    688.546      0.709      0.480    -876.165    1851.842\n",
       "enginelocation         9997.8858   2804.876      3.564      0.001    4441.447    1.56e+04\n",
       "wheelbase                -4.7337    108.505     -0.044      0.965    -219.682     210.214\n",
       "carlength               -53.8651     59.353     -0.908      0.366    -171.442      63.712\n",
       "carwidth                678.3596    305.540      2.220      0.028      73.088    1283.631\n",
       "carheight                28.6386    143.895      0.199      0.843    -256.416     313.693\n",
       "curbweight                6.2227      2.365      2.631      0.010       1.538      10.907\n",
       "enginesize               92.7399     30.930      2.998      0.003      31.468     154.012\n",
       "boreratio              1454.0275   2053.375      0.708      0.480   -2613.693    5521.748\n",
       "stroke                -5302.2881   1082.562     -4.898      0.000   -7446.835   -3157.741\n",
       "compressionratio      -1007.0745    603.705     -1.668      0.098   -2203.009     188.860\n",
       "horsepower              -17.8256     24.613     -0.724      0.470     -66.583      30.932\n",
       "peakrpm                   2.8648      0.702      4.079      0.000       1.473       4.256\n",
       "citympg                 -59.3763    167.252     -0.355      0.723    -390.701     271.948\n",
       "highwaympg              103.8597    152.273      0.682      0.497    -197.792     405.511\n",
       "carbody_hardtop       -4281.1716   1518.983     -2.818      0.006   -7290.265   -1272.078\n",
       "carbody_hatchback     -3154.2565   1351.642     -2.334      0.021   -5831.849    -476.664\n",
       "carbody_sedan         -1588.5682   1492.940     -1.064      0.290   -4546.071    1368.935\n",
       "carbody_wagon         -2989.3871   1634.535     -1.829      0.070   -6227.388     248.614\n",
       "enginetype_dohcv      -4532.3016   5386.570     -0.841      0.402   -1.52e+04    6138.453\n",
       "enginetype_l           -700.8239   1791.733     -0.391      0.696   -4250.234    2848.586\n",
       "enginetype_ohc         4430.9145   1018.589      4.350      0.000    2413.098    6448.731\n",
       "enginetype_ohcf         384.4982   1916.247      0.201      0.841   -3411.573    4180.569\n",
       "enginetype_ohcv       -5988.9966   1613.561     -3.712      0.000   -9185.449   -2792.545\n",
       "enginetype_rotor       -820.3427   2581.993     -0.318      0.751   -5935.251    4294.565\n",
       "drivewheel_fwd          179.0951   1123.233      0.159      0.874   -2046.020    2404.210\n",
       "drivewheel_rwd          753.5939   1418.737      0.531      0.596   -2056.913    3564.101\n",
       "cylindernumber_five   -1.098e+04   3440.930     -3.192      0.002   -1.78e+04   -4165.720\n",
       "cylindernumber_four   -1.208e+04   3781.647     -3.195      0.002   -1.96e+04   -4589.912\n",
       "cylindernumber_six    -6268.2755   2781.162     -2.254      0.026   -1.18e+04    -758.815\n",
       "cylindernumber_three  -9.374e-12      5e-12     -1.874      0.063   -1.93e-11    5.34e-13\n",
       "cylindernumber_twelve -5442.5849   4914.918     -1.107      0.270   -1.52e+04    4293.830\n",
       "cylindernumber_two     -820.3427   2581.993     -0.318      0.751   -5935.251    4294.565\n",
       "fuelsystem_2bbl        -136.6488    987.236     -0.138      0.890   -2092.356    1819.058\n",
       "fuelsystem_4bbl       -3200.6491   3293.386     -0.972      0.333   -9724.822    3323.524\n",
       "fuelsystem_idi        -1731.4397   8253.136     -0.210      0.834   -1.81e+04    1.46e+04\n",
       "fuelsystem_mfi                 0          0        nan        nan           0           0\n",
       "fuelsystem_mpfi        -528.0756   1135.233     -0.465      0.643   -2776.962    1720.811\n",
       "fuelsystem_spdi       -2897.7578   1561.728     -1.855      0.066   -5991.529     196.013\n",
       "fuelsystem_spfi                0          0        nan        nan           0           0\n",
       "==============================================================================\n",
       "Omnibus:                       34.528   Durbin-Watson:                   2.177\n",
       "Prob(Omnibus):                  0.000   Jarque-Bera (JB):               91.027\n",
       "Skew:                           0.891   Prob(JB):                     1.71e-20\n",
       "Kurtosis:                       6.332   Cond. No.                     1.00e+16\n",
       "==============================================================================\n",
       "\n",
       "Notes:\n",
       "[1] Standard Errors assume that the covariance matrix of the errors is correctly specified.\n",
       "[2] The smallest eigenvalue is 5.06e-23. This might indicate that there are\n",
       "strong multicollinearity problems or that the design matrix is singular.\n",
       "\"\"\""
      ]
     },
     "execution_count": 31,
     "metadata": {},
     "output_type": "execute_result"
    }
   ],
   "source": [
    "model_mplr = sm.OLS(y_train_mplr, x_train_mplr).fit()\n",
    "\n",
    "model_mplr.summary()"
   ]
  },
  {
   "cell_type": "markdown",
   "metadata": {},
   "source": [
    "The first thing that ought to jump out at you is that our R‑squared has jumped to 0.939 or 93.9%. But with multiple regression, it's important that we look at the Adjusted R‑squared as well, and that's 92.1%. When you use multiple predictors, not all of your predictors might be relevant. The Adjusted R‑squared applies a penalty to the irrelevant variables you may have used in your regression analysis. The fact that the Adjusted R‑squared here is very close to the R‑squared indicates that we have very few irrelevant variables in our regression. Here is the F‑statistic and the corresponding p‑value for the regression analysis as a whole. This very small p‑value under the significant threshold of 5% indicates that our regression analysis, on the whole, is valid. The coefficients of the regression are non zero. Each of the 44 predictors in our model will have a corresponding regression coefficient and with every regression coefficient, we have a t statistic and the p‑value giving us the validity of that regression coefficient. Observe that the p‑value corresponding to the enginesize coefficient is 0. The null hypothesis for this statistical test is that this coefficient has no impact or effect on the regression. The alternative hypothesis is that this coefficient has an impact or effect on the regression. With the p‑value of 0, we accept the alternative hypothesis. Observe the p‑value for the citympg. The p‑value is 78%, which is far above our significance threshold of 5%. This means that this particular variable or this coefficient does not have an effect on our regression, it's an irrelevant predictor. "
   ]
  },
  {
   "cell_type": "code",
   "execution_count": 32,
   "metadata": {},
   "outputs": [
    {
     "data": {
      "text/plain": [
       "153    15787.456414\n",
       "154    17991.767373\n",
       "155    16425.666092\n",
       "156     6705.126907\n",
       "157     8847.828593\n",
       "dtype: float64"
      ]
     },
     "execution_count": 32,
     "metadata": {},
     "output_type": "execute_result"
    }
   ],
   "source": [
    "y_pred_mplr = model_mplr.predict(x_test_mplr)\n",
    "\n",
    "y_pred_mplr.head()"
   ]
  },
  {
   "cell_type": "code",
   "execution_count": 33,
   "metadata": {},
   "outputs": [
    {
     "data": {
      "text/plain": [
       "0.8728138341281525"
      ]
     },
     "execution_count": 33,
     "metadata": {},
     "output_type": "execute_result"
    }
   ],
   "source": [
    "from sklearn.metrics import r2_score\n",
    "\n",
    "r2_score(y_test_mplr, y_pred_mplr)"
   ]
  },
  {
   "cell_type": "markdown",
   "metadata": {},
   "source": [
    "Now that we have our trained regression model, all that's left is to evaluate this model on the test data. Invoke predict on the test set, and here are the price predictions from our test data. Let's compute the R‑squared code on the test data and we get an R‑square of 81.8%. This is a pretty good R‑square. It shows us that our linear model with multiple predictors captures the variants in the underlying data points well. "
   ]
  },
  {
   "cell_type": "code",
   "execution_count": 34,
   "metadata": {},
   "outputs": [
    {
     "data": {
      "text/html": [
       "<div>\n",
       "<style scoped>\n",
       "    .dataframe tbody tr th:only-of-type {\n",
       "        vertical-align: middle;\n",
       "    }\n",
       "\n",
       "    .dataframe tbody tr th {\n",
       "        vertical-align: top;\n",
       "    }\n",
       "\n",
       "    .dataframe thead th {\n",
       "        text-align: right;\n",
       "    }\n",
       "</style>\n",
       "<table border=\"1\" class=\"dataframe\">\n",
       "  <thead>\n",
       "    <tr style=\"text-align: right;\">\n",
       "      <th></th>\n",
       "      <th>Actual Value</th>\n",
       "      <th>Predicted Value</th>\n",
       "    </tr>\n",
       "  </thead>\n",
       "  <tbody>\n",
       "    <tr>\n",
       "      <th>153</th>\n",
       "      <td>13499.0</td>\n",
       "      <td>15787.456414</td>\n",
       "    </tr>\n",
       "    <tr>\n",
       "      <th>154</th>\n",
       "      <td>15580.0</td>\n",
       "      <td>17991.767373</td>\n",
       "    </tr>\n",
       "    <tr>\n",
       "      <th>155</th>\n",
       "      <td>12964.0</td>\n",
       "      <td>16425.666092</td>\n",
       "    </tr>\n",
       "    <tr>\n",
       "      <th>156</th>\n",
       "      <td>7603.0</td>\n",
       "      <td>6705.126907</td>\n",
       "    </tr>\n",
       "    <tr>\n",
       "      <th>157</th>\n",
       "      <td>10295.0</td>\n",
       "      <td>8847.828593</td>\n",
       "    </tr>\n",
       "  </tbody>\n",
       "</table>\n",
       "</div>"
      ],
      "text/plain": [
       "     Actual Value  Predicted Value\n",
       "153       13499.0     15787.456414\n",
       "154       15580.0     17991.767373\n",
       "155       12964.0     16425.666092\n",
       "156        7603.0      6705.126907\n",
       "157       10295.0      8847.828593"
      ]
     },
     "execution_count": 34,
     "metadata": {},
     "output_type": "execute_result"
    }
   ],
   "source": [
    "data_actual_pred = pd.DataFrame({'Actual Value' : y_test_mplr.ravel(),\n",
    "                                 'Predicted Value' : y_pred_mplr})\n",
    "\n",
    "data_actual_pred.head()"
   ]
  },
  {
   "cell_type": "code",
   "execution_count": 85,
   "metadata": {},
   "outputs": [],
   "source": [
    "melted_data_actual_pred = pd.melt(data_actual_pred.reset_index(),\n",
    "                                   id_vars=['index'],\n",
    "                                   value_vars=['Actual Value', 'Predicted Value'])"
   ]
  },
  {
   "cell_type": "code",
   "execution_count": 86,
   "metadata": {},
   "outputs": [
    {
     "data": {
      "image/png": "[encoded data removed]",
      "text/plain": [
       "<Figure size 864x576 with 1 Axes>"
      ]
     },
     "metadata": {
      "needs_background": "light"
     },
     "output_type": "display_data"
    }
   ],
   "source": [
    "plt.figure(figsize=(12,8))\n",
    "sns.lineplot(data=melted_data_actual_pred, x='index', y='value', hue='variable')\n",
    "\n",
    "plt.show()"
   ]
  },
  {
   "cell_type": "markdown",
   "metadata": {},
   "source": [
    "In order to visualize the actual value in the test set versus predicted values, let's set up a data frame with two columns, Actual Value and Predicted Value from our model. The values seem pretty close, but here is a line plot that will allow us to visualize this. A line plot of predicted values and a line plot of actual values overlaid one on top of the other. And you can see from the way the plot moves that the values are actually close. The predicted values from our model are close to the actual values in the test data."
   ]
  }
 ],
 "metadata": {
  "kernelspec": {
   "display_name": "Python 3 (ipykernel)",
   "language": "python",
   "name": "python3"
  },
  "language_info": {
   "codemirror_mode": {
    "name": "ipython",
    "version": 3
   },
   "file_extension": ".py",
   "mimetype": "text/x-python",
   "name": "python",
   "nbconvert_exporter": "python",
   "pygments_lexer": "ipython3",
   "version": "3.10.5"
  },
  "vscode": {
   "interpreter": {
    "hash": "3ad933181bd8a04b432d3370b9dc3b0662ad032c4dfaa4e4f1596c548f763858"
   }
  }
 },
 "nbformat": 4,
 "nbformat_minor": 4
}
