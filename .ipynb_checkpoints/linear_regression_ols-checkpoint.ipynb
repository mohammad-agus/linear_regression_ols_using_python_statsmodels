{
 "cells": [
  {
   "cell_type": "code",
   "execution_count": 1,
   "metadata": {
    "tags": []
   },
   "outputs": [],
   "source": [
    "# !pip install git+https://github.com/statsmodels/statsmodels\n",
    "# %config Completer.use_jedi = False\n",
    "\n",
    "import numpy as np\n",
    "import pandas as pd\n",
    "import scipy.stats as stats\n",
    "import statsmodels.api as sm\n",
    "import seaborn as sns\n",
    "import matplotlib.pyplot as plt\n",
    "import re\n",
    "\n",
    "import warnings\n",
    "warnings.filterwarnings('ignore')"
   ]
  },
  {
   "cell_type": "code",
   "execution_count": 2,
   "metadata": {
    "tags": []
   },
   "outputs": [
    {
     "data": {
      "text/html": [
       "<div>\n",
       "<style scoped>\n",
       "    .dataframe tbody tr th:only-of-type {\n",
       "        vertical-align: middle;\n",
       "    }\n",
       "\n",
       "    .dataframe tbody tr th {\n",
       "        vertical-align: top;\n",
       "    }\n",
       "\n",
       "    .dataframe thead th {\n",
       "        text-align: right;\n",
       "    }\n",
       "</style>\n",
       "<table border=\"1\" class=\"dataframe\">\n",
       "  <thead>\n",
       "    <tr style=\"text-align: right;\">\n",
       "      <th></th>\n",
       "      <th>Location</th>\n",
       "      <th>Price</th>\n",
       "      <th>Rooms</th>\n",
       "      <th>Bathrooms</th>\n",
       "      <th>Car Parks</th>\n",
       "      <th>Property Type</th>\n",
       "      <th>Size</th>\n",
       "      <th>Furnishing</th>\n",
       "    </tr>\n",
       "  </thead>\n",
       "  <tbody>\n",
       "    <tr>\n",
       "      <th>0</th>\n",
       "      <td>KLCC, Kuala Lumpur</td>\n",
       "      <td>RM 1,250,000</td>\n",
       "      <td>2+1</td>\n",
       "      <td>3.0</td>\n",
       "      <td>2.0</td>\n",
       "      <td>Serviced Residence</td>\n",
       "      <td>Built-up : 1,335 sq. ft.</td>\n",
       "      <td>Fully Furnished</td>\n",
       "    </tr>\n",
       "    <tr>\n",
       "      <th>1</th>\n",
       "      <td>Damansara Heights, Kuala Lumpur</td>\n",
       "      <td>RM 6,800,000</td>\n",
       "      <td>6</td>\n",
       "      <td>7.0</td>\n",
       "      <td>NaN</td>\n",
       "      <td>Bungalow</td>\n",
       "      <td>Land area : 6900 sq. ft.</td>\n",
       "      <td>Partly Furnished</td>\n",
       "    </tr>\n",
       "    <tr>\n",
       "      <th>2</th>\n",
       "      <td>Dutamas, Kuala Lumpur</td>\n",
       "      <td>RM 1,030,000</td>\n",
       "      <td>3</td>\n",
       "      <td>4.0</td>\n",
       "      <td>2.0</td>\n",
       "      <td>Condominium (Corner)</td>\n",
       "      <td>Built-up : 1,875 sq. ft.</td>\n",
       "      <td>Partly Furnished</td>\n",
       "    </tr>\n",
       "    <tr>\n",
       "      <th>3</th>\n",
       "      <td>Cheras, Kuala Lumpur</td>\n",
       "      <td>NaN</td>\n",
       "      <td>NaN</td>\n",
       "      <td>NaN</td>\n",
       "      <td>NaN</td>\n",
       "      <td>NaN</td>\n",
       "      <td>NaN</td>\n",
       "      <td>NaN</td>\n",
       "    </tr>\n",
       "    <tr>\n",
       "      <th>4</th>\n",
       "      <td>Bukit Jalil, Kuala Lumpur</td>\n",
       "      <td>RM 900,000</td>\n",
       "      <td>4+1</td>\n",
       "      <td>3.0</td>\n",
       "      <td>2.0</td>\n",
       "      <td>Condominium (Corner)</td>\n",
       "      <td>Built-up : 1,513 sq. ft.</td>\n",
       "      <td>Partly Furnished</td>\n",
       "    </tr>\n",
       "  </tbody>\n",
       "</table>\n",
       "</div>"
      ],
      "text/plain": [
       "                          Location         Price Rooms  Bathrooms  Car Parks  \\\n",
       "0               KLCC, Kuala Lumpur  RM 1,250,000   2+1        3.0        2.0   \n",
       "1  Damansara Heights, Kuala Lumpur  RM 6,800,000     6        7.0        NaN   \n",
       "2            Dutamas, Kuala Lumpur  RM 1,030,000     3        4.0        2.0   \n",
       "3             Cheras, Kuala Lumpur           NaN   NaN        NaN        NaN   \n",
       "4        Bukit Jalil, Kuala Lumpur    RM 900,000   4+1        3.0        2.0   \n",
       "\n",
       "          Property Type                      Size        Furnishing  \n",
       "0    Serviced Residence  Built-up : 1,335 sq. ft.   Fully Furnished  \n",
       "1              Bungalow  Land area : 6900 sq. ft.  Partly Furnished  \n",
       "2  Condominium (Corner)  Built-up : 1,875 sq. ft.  Partly Furnished  \n",
       "3                   NaN                       NaN               NaN  \n",
       "4  Condominium (Corner)  Built-up : 1,513 sq. ft.  Partly Furnished  "
      ]
     },
     "execution_count": 2,
     "metadata": {},
     "output_type": "execute_result"
    }
   ],
   "source": [
    "df = pd.read_csv('dataset/property_listings_kuala_lumpur.csv')\n",
    "\n",
    "df.head()"
   ]
  },
  {
   "cell_type": "code",
   "execution_count": 3,
   "metadata": {},
   "outputs": [
    {
     "data": {
      "text/plain": [
       "Location          object\n",
       "Price             object\n",
       "Rooms             object\n",
       "Bathrooms        float64\n",
       "Car Parks        float64\n",
       "Property Type     object\n",
       "Size              object\n",
       "Furnishing        object\n",
       "dtype: object"
      ]
     },
     "execution_count": 3,
     "metadata": {},
     "output_type": "execute_result"
    }
   ],
   "source": [
    "df.dtypes"
   ]
  },
  {
   "cell_type": "code",
   "execution_count": 4,
   "metadata": {},
   "outputs": [
    {
     "data": {
      "text/plain": [
       "Location             0\n",
       "Price              248\n",
       "Rooms             1706\n",
       "Bathrooms         2013\n",
       "Car Parks        17567\n",
       "Property Type       25\n",
       "Size              1063\n",
       "Furnishing        6930\n",
       "dtype: int64"
      ]
     },
     "execution_count": 4,
     "metadata": {},
     "output_type": "execute_result"
    }
   ],
   "source": [
    "df.isnull().sum()"
   ]
  },
  {
   "cell_type": "code",
   "execution_count": 5,
   "metadata": {},
   "outputs": [
    {
     "data": {
      "text/plain": [
       "(31899, 8)"
      ]
     },
     "execution_count": 5,
     "metadata": {},
     "output_type": "execute_result"
    }
   ],
   "source": [
    "df.dropna(inplace=True)\n",
    "df = df.reset_index()\n",
    "df = df.drop('index', axis=1)\n",
    "\n",
    "df.shape"
   ]
  },
  {
   "cell_type": "code",
   "execution_count": 6,
   "metadata": {},
   "outputs": [
    {
     "data": {
      "text/plain": [
       "[R, M,  , ,]       17260\n",
       "[R, M,  , ,, ,]    14633\n",
       "[R, M,  ]              6\n",
       "Name: Price, dtype: int64"
      ]
     },
     "execution_count": 6,
     "metadata": {},
     "output_type": "execute_result"
    }
   ],
   "source": [
    "# Find, return all non-numeric characters and count it\n",
    "df['Price'].str.findall(r'[^\\d]').value_counts()"
   ]
  },
  {
   "cell_type": "code",
   "execution_count": 7,
   "metadata": {
    "tags": []
   },
   "outputs": [
    {
     "data": {
      "text/html": [
       "<div>\n",
       "<style scoped>\n",
       "    .dataframe tbody tr th:only-of-type {\n",
       "        vertical-align: middle;\n",
       "    }\n",
       "\n",
       "    .dataframe tbody tr th {\n",
       "        vertical-align: top;\n",
       "    }\n",
       "\n",
       "    .dataframe thead th {\n",
       "        text-align: right;\n",
       "    }\n",
       "</style>\n",
       "<table border=\"1\" class=\"dataframe\">\n",
       "  <thead>\n",
       "    <tr style=\"text-align: right;\">\n",
       "      <th></th>\n",
       "      <th>Location</th>\n",
       "      <th>Price</th>\n",
       "      <th>Rooms</th>\n",
       "      <th>Bathrooms</th>\n",
       "      <th>Car Parks</th>\n",
       "      <th>Property Type</th>\n",
       "      <th>Size</th>\n",
       "      <th>Furnishing</th>\n",
       "    </tr>\n",
       "  </thead>\n",
       "  <tbody>\n",
       "    <tr>\n",
       "      <th>0</th>\n",
       "      <td>KLCC, Kuala Lumpur</td>\n",
       "      <td>RM 1,250,000</td>\n",
       "      <td>2+1</td>\n",
       "      <td>3.0</td>\n",
       "      <td>2.0</td>\n",
       "      <td>Serviced Residence</td>\n",
       "      <td>Built-up : 1,335 sq. ft.</td>\n",
       "      <td>Fully Furnished</td>\n",
       "    </tr>\n",
       "    <tr>\n",
       "      <th>1</th>\n",
       "      <td>Dutamas, Kuala Lumpur</td>\n",
       "      <td>RM 1,030,000</td>\n",
       "      <td>3</td>\n",
       "      <td>4.0</td>\n",
       "      <td>2.0</td>\n",
       "      <td>Condominium (Corner)</td>\n",
       "      <td>Built-up : 1,875 sq. ft.</td>\n",
       "      <td>Partly Furnished</td>\n",
       "    </tr>\n",
       "    <tr>\n",
       "      <th>2</th>\n",
       "      <td>Bukit Jalil, Kuala Lumpur</td>\n",
       "      <td>RM 900,000</td>\n",
       "      <td>4+1</td>\n",
       "      <td>3.0</td>\n",
       "      <td>2.0</td>\n",
       "      <td>Condominium (Corner)</td>\n",
       "      <td>Built-up : 1,513 sq. ft.</td>\n",
       "      <td>Partly Furnished</td>\n",
       "    </tr>\n",
       "    <tr>\n",
       "      <th>3</th>\n",
       "      <td>Taman Tun Dr Ismail, Kuala Lumpur</td>\n",
       "      <td>RM 5,350,000</td>\n",
       "      <td>4+2</td>\n",
       "      <td>5.0</td>\n",
       "      <td>4.0</td>\n",
       "      <td>Bungalow</td>\n",
       "      <td>Land area : 7200 sq. ft.</td>\n",
       "      <td>Partly Furnished</td>\n",
       "    </tr>\n",
       "    <tr>\n",
       "      <th>4</th>\n",
       "      <td>Taman Tun Dr Ismail, Kuala Lumpur</td>\n",
       "      <td>RM 2,600,000</td>\n",
       "      <td>5</td>\n",
       "      <td>4.0</td>\n",
       "      <td>4.0</td>\n",
       "      <td>Semi-detached House</td>\n",
       "      <td>Land area : 3600 sq. ft.</td>\n",
       "      <td>Partly Furnished</td>\n",
       "    </tr>\n",
       "  </tbody>\n",
       "</table>\n",
       "</div>"
      ],
      "text/plain": [
       "                            Location         Price Rooms  Bathrooms  \\\n",
       "0                 KLCC, Kuala Lumpur  RM 1,250,000   2+1        3.0   \n",
       "1              Dutamas, Kuala Lumpur  RM 1,030,000     3        4.0   \n",
       "2          Bukit Jalil, Kuala Lumpur    RM 900,000   4+1        3.0   \n",
       "3  Taman Tun Dr Ismail, Kuala Lumpur  RM 5,350,000   4+2        5.0   \n",
       "4  Taman Tun Dr Ismail, Kuala Lumpur  RM 2,600,000     5        4.0   \n",
       "\n",
       "   Car Parks         Property Type                      Size        Furnishing  \n",
       "0        2.0    Serviced Residence  Built-up : 1,335 sq. ft.   Fully Furnished  \n",
       "1        2.0  Condominium (Corner)  Built-up : 1,875 sq. ft.  Partly Furnished  \n",
       "2        2.0  Condominium (Corner)  Built-up : 1,513 sq. ft.  Partly Furnished  \n",
       "3        4.0              Bungalow  Land area : 7200 sq. ft.  Partly Furnished  \n",
       "4        4.0   Semi-detached House  Land area : 3600 sq. ft.  Partly Furnished  "
      ]
     },
     "execution_count": 7,
     "metadata": {},
     "output_type": "execute_result"
    }
   ],
   "source": [
    "df.head()"
   ]
  },
  {
   "cell_type": "code",
   "execution_count": 8,
   "metadata": {},
   "outputs": [
    {
     "data": {
      "text/html": [
       "<div>\n",
       "<style scoped>\n",
       "    .dataframe tbody tr th:only-of-type {\n",
       "        vertical-align: middle;\n",
       "    }\n",
       "\n",
       "    .dataframe tbody tr th {\n",
       "        vertical-align: top;\n",
       "    }\n",
       "\n",
       "    .dataframe thead th {\n",
       "        text-align: right;\n",
       "    }\n",
       "</style>\n",
       "<table border=\"1\" class=\"dataframe\">\n",
       "  <thead>\n",
       "    <tr style=\"text-align: right;\">\n",
       "      <th></th>\n",
       "      <th>Location</th>\n",
       "      <th>Price</th>\n",
       "      <th>Rooms</th>\n",
       "      <th>Bathrooms</th>\n",
       "      <th>Car Parks</th>\n",
       "      <th>Property Type</th>\n",
       "      <th>Size</th>\n",
       "      <th>Furnishing</th>\n",
       "    </tr>\n",
       "  </thead>\n",
       "  <tbody>\n",
       "    <tr>\n",
       "      <th>0</th>\n",
       "      <td>KLCC, Kuala Lumpur</td>\n",
       "      <td>1250000</td>\n",
       "      <td>2+1</td>\n",
       "      <td>3.0</td>\n",
       "      <td>2.0</td>\n",
       "      <td>Serviced Residence</td>\n",
       "      <td>Built-up : 1,335 sq. ft.</td>\n",
       "      <td>Fully Furnished</td>\n",
       "    </tr>\n",
       "    <tr>\n",
       "      <th>1</th>\n",
       "      <td>Dutamas, Kuala Lumpur</td>\n",
       "      <td>1030000</td>\n",
       "      <td>3</td>\n",
       "      <td>4.0</td>\n",
       "      <td>2.0</td>\n",
       "      <td>Condominium (Corner)</td>\n",
       "      <td>Built-up : 1,875 sq. ft.</td>\n",
       "      <td>Partly Furnished</td>\n",
       "    </tr>\n",
       "    <tr>\n",
       "      <th>2</th>\n",
       "      <td>Bukit Jalil, Kuala Lumpur</td>\n",
       "      <td>900000</td>\n",
       "      <td>4+1</td>\n",
       "      <td>3.0</td>\n",
       "      <td>2.0</td>\n",
       "      <td>Condominium (Corner)</td>\n",
       "      <td>Built-up : 1,513 sq. ft.</td>\n",
       "      <td>Partly Furnished</td>\n",
       "    </tr>\n",
       "    <tr>\n",
       "      <th>3</th>\n",
       "      <td>Taman Tun Dr Ismail, Kuala Lumpur</td>\n",
       "      <td>5350000</td>\n",
       "      <td>4+2</td>\n",
       "      <td>5.0</td>\n",
       "      <td>4.0</td>\n",
       "      <td>Bungalow</td>\n",
       "      <td>Land area : 7200 sq. ft.</td>\n",
       "      <td>Partly Furnished</td>\n",
       "    </tr>\n",
       "    <tr>\n",
       "      <th>4</th>\n",
       "      <td>Taman Tun Dr Ismail, Kuala Lumpur</td>\n",
       "      <td>2600000</td>\n",
       "      <td>5</td>\n",
       "      <td>4.0</td>\n",
       "      <td>4.0</td>\n",
       "      <td>Semi-detached House</td>\n",
       "      <td>Land area : 3600 sq. ft.</td>\n",
       "      <td>Partly Furnished</td>\n",
       "    </tr>\n",
       "  </tbody>\n",
       "</table>\n",
       "</div>"
      ],
      "text/plain": [
       "                            Location    Price Rooms  Bathrooms  Car Parks  \\\n",
       "0                 KLCC, Kuala Lumpur  1250000   2+1        3.0        2.0   \n",
       "1              Dutamas, Kuala Lumpur  1030000     3        4.0        2.0   \n",
       "2          Bukit Jalil, Kuala Lumpur   900000   4+1        3.0        2.0   \n",
       "3  Taman Tun Dr Ismail, Kuala Lumpur  5350000   4+2        5.0        4.0   \n",
       "4  Taman Tun Dr Ismail, Kuala Lumpur  2600000     5        4.0        4.0   \n",
       "\n",
       "          Property Type                      Size        Furnishing  \n",
       "0    Serviced Residence  Built-up : 1,335 sq. ft.   Fully Furnished  \n",
       "1  Condominium (Corner)  Built-up : 1,875 sq. ft.  Partly Furnished  \n",
       "2  Condominium (Corner)  Built-up : 1,513 sq. ft.  Partly Furnished  \n",
       "3              Bungalow  Land area : 7200 sq. ft.  Partly Furnished  \n",
       "4   Semi-detached House  Land area : 3600 sq. ft.  Partly Furnished  "
      ]
     },
     "execution_count": 8,
     "metadata": {},
     "output_type": "execute_result"
    }
   ],
   "source": [
    "def replace_strings(string, replacements):\n",
    "    for old, new in replacements.items():\n",
    "        string = string.replace(old, new)\n",
    "    return int(string)\n",
    "\n",
    "\n",
    "str_rep = { 'R' : '',\n",
    "            'M' : '',\n",
    "            ' ' : '',\n",
    "            ',' : ''  }\n",
    "\n",
    "df['Price'] = df['Price'].apply(lambda x:replace_strings(x, str_rep))\n",
    "\n",
    "df.head()"
   ]
  },
  {
   "cell_type": "code",
   "execution_count": 9,
   "metadata": {},
   "outputs": [
    {
     "data": {
      "text/plain": [
       "array(['2+1', '3', '4+1', '4+2', '5', '6+1', '3+2', '1', '3+1', '2', '6',\n",
       "       '4', '1+1', '5+1', '2+2', 'Studio', '7+1', '7', '14', '5+2', '12',\n",
       "       '7+', '8+', '8', '8+1', '13+', '20 Above', '10', '1+2', '9', '6+',\n",
       "       '10+1', '15+', '9+1', '10+', '11', '13+1', '12+', '16', '13'],\n",
       "      dtype=object)"
      ]
     },
     "execution_count": 9,
     "metadata": {},
     "output_type": "execute_result"
    }
   ],
   "source": [
    "df['Rooms'].unique()"
   ]
  },
  {
   "cell_type": "code",
   "execution_count": 10,
   "metadata": {},
   "outputs": [
    {
     "data": {
      "text/html": [
       "<div>\n",
       "<style scoped>\n",
       "    .dataframe tbody tr th:only-of-type {\n",
       "        vertical-align: middle;\n",
       "    }\n",
       "\n",
       "    .dataframe tbody tr th {\n",
       "        vertical-align: top;\n",
       "    }\n",
       "\n",
       "    .dataframe thead th {\n",
       "        text-align: right;\n",
       "    }\n",
       "</style>\n",
       "<table border=\"1\" class=\"dataframe\">\n",
       "  <thead>\n",
       "    <tr style=\"text-align: right;\">\n",
       "      <th></th>\n",
       "      <th>Location</th>\n",
       "      <th>Price</th>\n",
       "      <th>Rooms</th>\n",
       "      <th>Bathrooms</th>\n",
       "      <th>Car Parks</th>\n",
       "      <th>Property Type</th>\n",
       "      <th>Size</th>\n",
       "      <th>Furnishing</th>\n",
       "    </tr>\n",
       "  </thead>\n",
       "  <tbody>\n",
       "    <tr>\n",
       "      <th>0</th>\n",
       "      <td>KLCC, Kuala Lumpur</td>\n",
       "      <td>1250000</td>\n",
       "      <td>3</td>\n",
       "      <td>3.0</td>\n",
       "      <td>2.0</td>\n",
       "      <td>Serviced Residence</td>\n",
       "      <td>Built-up : 1,335 sq. ft.</td>\n",
       "      <td>Fully Furnished</td>\n",
       "    </tr>\n",
       "    <tr>\n",
       "      <th>1</th>\n",
       "      <td>Dutamas, Kuala Lumpur</td>\n",
       "      <td>1030000</td>\n",
       "      <td>3</td>\n",
       "      <td>4.0</td>\n",
       "      <td>2.0</td>\n",
       "      <td>Condominium (Corner)</td>\n",
       "      <td>Built-up : 1,875 sq. ft.</td>\n",
       "      <td>Partly Furnished</td>\n",
       "    </tr>\n",
       "    <tr>\n",
       "      <th>2</th>\n",
       "      <td>Bukit Jalil, Kuala Lumpur</td>\n",
       "      <td>900000</td>\n",
       "      <td>5</td>\n",
       "      <td>3.0</td>\n",
       "      <td>2.0</td>\n",
       "      <td>Condominium (Corner)</td>\n",
       "      <td>Built-up : 1,513 sq. ft.</td>\n",
       "      <td>Partly Furnished</td>\n",
       "    </tr>\n",
       "    <tr>\n",
       "      <th>3</th>\n",
       "      <td>Taman Tun Dr Ismail, Kuala Lumpur</td>\n",
       "      <td>5350000</td>\n",
       "      <td>6</td>\n",
       "      <td>5.0</td>\n",
       "      <td>4.0</td>\n",
       "      <td>Bungalow</td>\n",
       "      <td>Land area : 7200 sq. ft.</td>\n",
       "      <td>Partly Furnished</td>\n",
       "    </tr>\n",
       "    <tr>\n",
       "      <th>4</th>\n",
       "      <td>Taman Tun Dr Ismail, Kuala Lumpur</td>\n",
       "      <td>2600000</td>\n",
       "      <td>5</td>\n",
       "      <td>4.0</td>\n",
       "      <td>4.0</td>\n",
       "      <td>Semi-detached House</td>\n",
       "      <td>Land area : 3600 sq. ft.</td>\n",
       "      <td>Partly Furnished</td>\n",
       "    </tr>\n",
       "  </tbody>\n",
       "</table>\n",
       "</div>"
      ],
      "text/plain": [
       "                            Location    Price  Rooms  Bathrooms  Car Parks  \\\n",
       "0                 KLCC, Kuala Lumpur  1250000      3        3.0        2.0   \n",
       "1              Dutamas, Kuala Lumpur  1030000      3        4.0        2.0   \n",
       "2          Bukit Jalil, Kuala Lumpur   900000      5        3.0        2.0   \n",
       "3  Taman Tun Dr Ismail, Kuala Lumpur  5350000      6        5.0        4.0   \n",
       "4  Taman Tun Dr Ismail, Kuala Lumpur  2600000      5        4.0        4.0   \n",
       "\n",
       "          Property Type                      Size        Furnishing  \n",
       "0    Serviced Residence  Built-up : 1,335 sq. ft.   Fully Furnished  \n",
       "1  Condominium (Corner)  Built-up : 1,875 sq. ft.  Partly Furnished  \n",
       "2  Condominium (Corner)  Built-up : 1,513 sq. ft.  Partly Furnished  \n",
       "3              Bungalow  Land area : 7200 sq. ft.  Partly Furnished  \n",
       "4   Semi-detached House  Land area : 3600 sq. ft.  Partly Furnished  "
      ]
     },
     "execution_count": 10,
     "metadata": {},
     "output_type": "execute_result"
    }
   ],
   "source": [
    "def convert_rooms(a):\n",
    "    if a.endswith(\"+\") == True:\n",
    "        return int(a[::-1])\n",
    "    if bool(re.search(r'\\d+\\+\\d+', a)) == True:\n",
    "        return int(a.split('+')[0]) + int(a.split('+')[1])\n",
    "    if a == \"Studio\":\n",
    "        return 1\n",
    "    if a == \"20 Above\":\n",
    "        return int(a.split()[0])\n",
    "    else:\n",
    "        return int(a)\n",
    "    \n",
    "df['Rooms'] = df['Rooms'].apply(convert_rooms)\n",
    "\n",
    "df.head()"
   ]
  },
  {
   "cell_type": "code",
   "execution_count": 11,
   "metadata": {},
   "outputs": [],
   "source": [
    "df['area'] = df['Size'].apply(lambda i:i.split(':')[0])\n",
    "\n",
    "def extract_size(a):\n",
    "    if a.endswith('sq. ft.'):\n",
    "        return a[:-7]\n",
    "    if a.endswith('sq. m.'):\n",
    "        return a[:-6]\n",
    "    if a.endswith('acres'):\n",
    "        return a[:-5]\n",
    "\n",
    "df['size'] = df['Size'].apply(lambda i:i.split(':')[1]).apply(extract_size)\n",
    "\n"
   ]
  },
  {
   "cell_type": "code",
   "execution_count": 12,
   "metadata": {},
   "outputs": [],
   "source": [
    "def extract_unit(a):\n",
    "    if a.endswith('sq. ft.'):\n",
    "        return a[-7:]\n",
    "    else:\n",
    "        return np.nan\n",
    "\n",
    "df['unit'] = df['Size'].apply(lambda i:i.split(':')[1]).apply(extract_unit)"
   ]
  },
  {
   "cell_type": "code",
   "execution_count": 13,
   "metadata": {},
   "outputs": [],
   "source": [
    "df['size'] = df['size'].apply(lambda x: x.replace(',', ''))\n",
    "\n",
    "df['size'] = pd.to_numeric(df['size'], errors='coerce')\n",
    "\n",
    "df.dropna(inplace=True)"
   ]
  },
  {
   "cell_type": "code",
   "execution_count": 14,
   "metadata": {},
   "outputs": [
    {
     "data": {
      "text/html": [
       "<div>\n",
       "<style scoped>\n",
       "    .dataframe tbody tr th:only-of-type {\n",
       "        vertical-align: middle;\n",
       "    }\n",
       "\n",
       "    .dataframe tbody tr th {\n",
       "        vertical-align: top;\n",
       "    }\n",
       "\n",
       "    .dataframe thead th {\n",
       "        text-align: right;\n",
       "    }\n",
       "</style>\n",
       "<table border=\"1\" class=\"dataframe\">\n",
       "  <thead>\n",
       "    <tr style=\"text-align: right;\">\n",
       "      <th></th>\n",
       "      <th>Location</th>\n",
       "      <th>Price</th>\n",
       "      <th>Rooms</th>\n",
       "      <th>Bathrooms</th>\n",
       "      <th>Car Parks</th>\n",
       "      <th>Property Type</th>\n",
       "      <th>Size</th>\n",
       "      <th>Furnishing</th>\n",
       "      <th>area</th>\n",
       "      <th>size</th>\n",
       "      <th>unit</th>\n",
       "    </tr>\n",
       "  </thead>\n",
       "  <tbody>\n",
       "    <tr>\n",
       "      <th>0</th>\n",
       "      <td>KLCC, Kuala Lumpur</td>\n",
       "      <td>1250000</td>\n",
       "      <td>3</td>\n",
       "      <td>3.0</td>\n",
       "      <td>2.0</td>\n",
       "      <td>Serviced Residence</td>\n",
       "      <td>Built-up : 1,335 sq. ft.</td>\n",
       "      <td>Fully Furnished</td>\n",
       "      <td>Built-up</td>\n",
       "      <td>1335.0</td>\n",
       "      <td>sq. ft.</td>\n",
       "    </tr>\n",
       "    <tr>\n",
       "      <th>1</th>\n",
       "      <td>Dutamas, Kuala Lumpur</td>\n",
       "      <td>1030000</td>\n",
       "      <td>3</td>\n",
       "      <td>4.0</td>\n",
       "      <td>2.0</td>\n",
       "      <td>Condominium (Corner)</td>\n",
       "      <td>Built-up : 1,875 sq. ft.</td>\n",
       "      <td>Partly Furnished</td>\n",
       "      <td>Built-up</td>\n",
       "      <td>1875.0</td>\n",
       "      <td>sq. ft.</td>\n",
       "    </tr>\n",
       "    <tr>\n",
       "      <th>2</th>\n",
       "      <td>Bukit Jalil, Kuala Lumpur</td>\n",
       "      <td>900000</td>\n",
       "      <td>5</td>\n",
       "      <td>3.0</td>\n",
       "      <td>2.0</td>\n",
       "      <td>Condominium (Corner)</td>\n",
       "      <td>Built-up : 1,513 sq. ft.</td>\n",
       "      <td>Partly Furnished</td>\n",
       "      <td>Built-up</td>\n",
       "      <td>1513.0</td>\n",
       "      <td>sq. ft.</td>\n",
       "    </tr>\n",
       "    <tr>\n",
       "      <th>3</th>\n",
       "      <td>Taman Tun Dr Ismail, Kuala Lumpur</td>\n",
       "      <td>5350000</td>\n",
       "      <td>6</td>\n",
       "      <td>5.0</td>\n",
       "      <td>4.0</td>\n",
       "      <td>Bungalow</td>\n",
       "      <td>Land area : 7200 sq. ft.</td>\n",
       "      <td>Partly Furnished</td>\n",
       "      <td>Land area</td>\n",
       "      <td>7200.0</td>\n",
       "      <td>sq. ft.</td>\n",
       "    </tr>\n",
       "    <tr>\n",
       "      <th>4</th>\n",
       "      <td>Taman Tun Dr Ismail, Kuala Lumpur</td>\n",
       "      <td>2600000</td>\n",
       "      <td>5</td>\n",
       "      <td>4.0</td>\n",
       "      <td>4.0</td>\n",
       "      <td>Semi-detached House</td>\n",
       "      <td>Land area : 3600 sq. ft.</td>\n",
       "      <td>Partly Furnished</td>\n",
       "      <td>Land area</td>\n",
       "      <td>3600.0</td>\n",
       "      <td>sq. ft.</td>\n",
       "    </tr>\n",
       "  </tbody>\n",
       "</table>\n",
       "</div>"
      ],
      "text/plain": [
       "                            Location    Price  Rooms  Bathrooms  Car Parks  \\\n",
       "0                 KLCC, Kuala Lumpur  1250000      3        3.0        2.0   \n",
       "1              Dutamas, Kuala Lumpur  1030000      3        4.0        2.0   \n",
       "2          Bukit Jalil, Kuala Lumpur   900000      5        3.0        2.0   \n",
       "3  Taman Tun Dr Ismail, Kuala Lumpur  5350000      6        5.0        4.0   \n",
       "4  Taman Tun Dr Ismail, Kuala Lumpur  2600000      5        4.0        4.0   \n",
       "\n",
       "          Property Type                      Size        Furnishing  \\\n",
       "0    Serviced Residence  Built-up : 1,335 sq. ft.   Fully Furnished   \n",
       "1  Condominium (Corner)  Built-up : 1,875 sq. ft.  Partly Furnished   \n",
       "2  Condominium (Corner)  Built-up : 1,513 sq. ft.  Partly Furnished   \n",
       "3              Bungalow  Land area : 7200 sq. ft.  Partly Furnished   \n",
       "4   Semi-detached House  Land area : 3600 sq. ft.  Partly Furnished   \n",
       "\n",
       "         area    size     unit  \n",
       "0   Built-up   1335.0  sq. ft.  \n",
       "1   Built-up   1875.0  sq. ft.  \n",
       "2   Built-up   1513.0  sq. ft.  \n",
       "3  Land area   7200.0  sq. ft.  \n",
       "4  Land area   3600.0  sq. ft.  "
      ]
     },
     "execution_count": 14,
     "metadata": {},
     "output_type": "execute_result"
    }
   ],
   "source": [
    "df.head()"
   ]
  },
  {
   "cell_type": "code",
   "execution_count": 15,
   "metadata": {
    "tags": []
   },
   "outputs": [
    {
     "data": {
      "text/plain": [
       "Index(['Location', 'Price', 'Rooms', 'Bathrooms', 'Car Parks', 'Property Type',\n",
       "       'Size', 'Furnishing', 'area', 'size', 'unit'],\n",
       "      dtype='object')"
      ]
     },
     "execution_count": 15,
     "metadata": {},
     "output_type": "execute_result"
    }
   ],
   "source": [
    "df.columns"
   ]
  },
  {
   "cell_type": "code",
   "execution_count": 16,
   "metadata": {
    "tags": []
   },
   "outputs": [
    {
     "data": {
      "text/html": [
       "<div>\n",
       "<style scoped>\n",
       "    .dataframe tbody tr th:only-of-type {\n",
       "        vertical-align: middle;\n",
       "    }\n",
       "\n",
       "    .dataframe tbody tr th {\n",
       "        vertical-align: top;\n",
       "    }\n",
       "\n",
       "    .dataframe thead th {\n",
       "        text-align: right;\n",
       "    }\n",
       "</style>\n",
       "<table border=\"1\" class=\"dataframe\">\n",
       "  <thead>\n",
       "    <tr style=\"text-align: right;\">\n",
       "      <th></th>\n",
       "      <th>Price</th>\n",
       "      <th>Rooms</th>\n",
       "      <th>Bathrooms</th>\n",
       "      <th>Car Parks</th>\n",
       "      <th>size</th>\n",
       "    </tr>\n",
       "  </thead>\n",
       "  <tbody>\n",
       "    <tr>\n",
       "      <th>count</th>\n",
       "      <td>2.915800e+04</td>\n",
       "      <td>29158.000000</td>\n",
       "      <td>29158.000000</td>\n",
       "      <td>29158.000000</td>\n",
       "      <td>29158.000000</td>\n",
       "    </tr>\n",
       "    <tr>\n",
       "      <th>mean</th>\n",
       "      <td>1.595129e+06</td>\n",
       "      <td>3.467179</td>\n",
       "      <td>2.872351</td>\n",
       "      <td>1.951986</td>\n",
       "      <td>2180.281816</td>\n",
       "    </tr>\n",
       "    <tr>\n",
       "      <th>std</th>\n",
       "      <td>2.205096e+06</td>\n",
       "      <td>1.438763</td>\n",
       "      <td>1.525974</td>\n",
       "      <td>1.299676</td>\n",
       "      <td>9902.053420</td>\n",
       "    </tr>\n",
       "    <tr>\n",
       "      <th>min</th>\n",
       "      <td>3.080000e+02</td>\n",
       "      <td>1.000000</td>\n",
       "      <td>1.000000</td>\n",
       "      <td>1.000000</td>\n",
       "      <td>1.280000</td>\n",
       "    </tr>\n",
       "    <tr>\n",
       "      <th>25%</th>\n",
       "      <td>5.500000e+05</td>\n",
       "      <td>3.000000</td>\n",
       "      <td>2.000000</td>\n",
       "      <td>1.000000</td>\n",
       "      <td>990.000000</td>\n",
       "    </tr>\n",
       "    <tr>\n",
       "      <th>50%</th>\n",
       "      <td>8.800000e+05</td>\n",
       "      <td>3.000000</td>\n",
       "      <td>2.000000</td>\n",
       "      <td>2.000000</td>\n",
       "      <td>1281.000000</td>\n",
       "    </tr>\n",
       "    <tr>\n",
       "      <th>75%</th>\n",
       "      <td>1.700000e+06</td>\n",
       "      <td>4.000000</td>\n",
       "      <td>4.000000</td>\n",
       "      <td>2.000000</td>\n",
       "      <td>1996.000000</td>\n",
       "    </tr>\n",
       "    <tr>\n",
       "      <th>max</th>\n",
       "      <td>5.128101e+07</td>\n",
       "      <td>51.000000</td>\n",
       "      <td>20.000000</td>\n",
       "      <td>30.000000</td>\n",
       "      <td>820000.000000</td>\n",
       "    </tr>\n",
       "  </tbody>\n",
       "</table>\n",
       "</div>"
      ],
      "text/plain": [
       "              Price         Rooms     Bathrooms     Car Parks           size\n",
       "count  2.915800e+04  29158.000000  29158.000000  29158.000000   29158.000000\n",
       "mean   1.595129e+06      3.467179      2.872351      1.951986    2180.281816\n",
       "std    2.205096e+06      1.438763      1.525974      1.299676    9902.053420\n",
       "min    3.080000e+02      1.000000      1.000000      1.000000       1.280000\n",
       "25%    5.500000e+05      3.000000      2.000000      1.000000     990.000000\n",
       "50%    8.800000e+05      3.000000      2.000000      2.000000    1281.000000\n",
       "75%    1.700000e+06      4.000000      4.000000      2.000000    1996.000000\n",
       "max    5.128101e+07     51.000000     20.000000     30.000000  820000.000000"
      ]
     },
     "execution_count": 16,
     "metadata": {},
     "output_type": "execute_result"
    }
   ],
   "source": [
    "df = df[df['size']!=0]\n",
    "\n",
    "df.reset_index(drop=True)\n",
    "\n",
    "num = ['Price', 'Rooms', 'Bathrooms', 'Car Parks', 'size']\n",
    "\n",
    "df.describe()"
   ]
  },
  {
   "cell_type": "code",
   "execution_count": 17,
   "metadata": {
    "tags": []
   },
   "outputs": [
    {
     "data": {
      "image/png": "[encoded data removed]",
      "text/plain": [
       "<Figure size 640x480 with 1 Axes>"
      ]
     },
     "metadata": {},
     "output_type": "display_data"
    }
   ],
   "source": [
    "#plt.figure(figsize=(12,8))\n",
    "\n",
    "sns.histplot(data=df, x='Price', kde=True, bins=1000)\n",
    "\n",
    "plt.title(\"Kuala Lumpur Property Pricing\")\n",
    "\n",
    "plt.show()"
   ]
  },
  {
   "cell_type": "code",
   "execution_count": 18,
   "metadata": {},
   "outputs": [
    {
     "data": {
      "image/png": "[encoded data removed]",
      "text/plain": [
       "<Figure size 640x480 with 1 Axes>"
      ]
     },
     "metadata": {},
     "output_type": "display_data"
    }
   ],
   "source": [
    "#plt.figure(figsize=(12,8))\n",
    "\n",
    "sns.boxplot(data=df, x='area', y='Price')\n",
    "\n",
    "plt.title('Property Prices by Area Type')\n",
    "\n",
    "plt.show()"
   ]
  },
  {
   "cell_type": "code",
   "execution_count": 21,
   "metadata": {
    "tags": []
   },
   "outputs": [
    {
     "data": {
      "text/html": [
       "<div>\n",
       "<style scoped>\n",
       "    .dataframe tbody tr th:only-of-type {\n",
       "        vertical-align: middle;\n",
       "    }\n",
       "\n",
       "    .dataframe tbody tr th {\n",
       "        vertical-align: top;\n",
       "    }\n",
       "\n",
       "    .dataframe thead th {\n",
       "        text-align: right;\n",
       "    }\n",
       "</style>\n",
       "<table border=\"1\" class=\"dataframe\">\n",
       "  <thead>\n",
       "    <tr style=\"text-align: right;\">\n",
       "      <th></th>\n",
       "      <th>Price</th>\n",
       "      <th>Rooms</th>\n",
       "      <th>Bathrooms</th>\n",
       "      <th>Car Parks</th>\n",
       "      <th>size</th>\n",
       "    </tr>\n",
       "  </thead>\n",
       "  <tbody>\n",
       "    <tr>\n",
       "      <th>Price</th>\n",
       "      <td>1.000000</td>\n",
       "      <td>0.550053</td>\n",
       "      <td>0.662828</td>\n",
       "      <td>0.609344</td>\n",
       "      <td>0.196542</td>\n",
       "    </tr>\n",
       "    <tr>\n",
       "      <th>Rooms</th>\n",
       "      <td>0.550053</td>\n",
       "      <td>1.000000</td>\n",
       "      <td>0.832448</td>\n",
       "      <td>0.649324</td>\n",
       "      <td>0.148427</td>\n",
       "    </tr>\n",
       "    <tr>\n",
       "      <th>Bathrooms</th>\n",
       "      <td>0.662828</td>\n",
       "      <td>0.832448</td>\n",
       "      <td>1.000000</td>\n",
       "      <td>0.665429</td>\n",
       "      <td>0.158671</td>\n",
       "    </tr>\n",
       "    <tr>\n",
       "      <th>Car Parks</th>\n",
       "      <td>0.609344</td>\n",
       "      <td>0.649324</td>\n",
       "      <td>0.665429</td>\n",
       "      <td>1.000000</td>\n",
       "      <td>0.165557</td>\n",
       "    </tr>\n",
       "    <tr>\n",
       "      <th>size</th>\n",
       "      <td>0.196542</td>\n",
       "      <td>0.148427</td>\n",
       "      <td>0.158671</td>\n",
       "      <td>0.165557</td>\n",
       "      <td>1.000000</td>\n",
       "    </tr>\n",
       "  </tbody>\n",
       "</table>\n",
       "</div>"
      ],
      "text/plain": [
       "              Price     Rooms  Bathrooms  Car Parks      size\n",
       "Price      1.000000  0.550053   0.662828   0.609344  0.196542\n",
       "Rooms      0.550053  1.000000   0.832448   0.649324  0.148427\n",
       "Bathrooms  0.662828  0.832448   1.000000   0.665429  0.158671\n",
       "Car Parks  0.609344  0.649324   0.665429   1.000000  0.165557\n",
       "size       0.196542  0.148427   0.158671   0.165557  1.000000"
      ]
     },
     "execution_count": 21,
     "metadata": {},
     "output_type": "execute_result"
    }
   ],
   "source": [
    "df.corr()"
   ]
  },
  {
   "cell_type": "code",
   "execution_count": 57,
   "metadata": {},
   "outputs": [
    {
     "data": {
      "image/png": "[encoded data removed]",
      "text/plain": [
       "<Figure size 720x600 with 1 Axes>"
      ]
     },
     "metadata": {},
     "output_type": "display_data"
    }
   ],
   "source": [
    "sns.lmplot(data=df, x='size', y='Price', height=6, aspect=1.2)\n",
    "plt.show()"
   ]
  },
  {
   "cell_type": "code",
   "execution_count": 56,
   "metadata": {
    "tags": []
   },
   "outputs": [
    {
     "data": {
      "image/png": "[encoded data removed]",
      "text/plain": [
       "<Figure size 720x600 with 1 Axes>"
      ]
     },
     "metadata": {},
     "output_type": "display_data"
    }
   ],
   "source": [
    "sns.lmplot(data=df, x='Bathrooms', y='Price', height=6, aspect=1.2)\n",
    "plt.show()"
   ]
  },
  {
   "cell_type": "code",
   "execution_count": null,
   "metadata": {},
   "outputs": [],
   "source": []
  }
 ],
 "metadata": {
  "kernelspec": {
   "display_name": "Python 3 (ipykernel)",
   "language": "python",
   "name": "python3"
  },
  "language_info": {
   "codemirror_mode": {
    "name": "ipython",
    "version": 3
   },
   "file_extension": ".py",
   "mimetype": "text/x-python",
   "name": "python",
   "nbconvert_exporter": "python",
   "pygments_lexer": "ipython3",
   "version": "3.10.4"
  },
  "vscode": {
   "interpreter": {
    "hash": "3ad933181bd8a04b432d3370b9dc3b0662ad032c4dfaa4e4f1596c548f763858"
   }
  }
 },
 "nbformat": 4,
 "nbformat_minor": 4
}
